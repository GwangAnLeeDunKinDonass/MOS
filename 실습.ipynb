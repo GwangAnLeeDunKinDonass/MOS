{
 "cells": [
  {
   "cell_type": "code",
   "execution_count": 1,
   "id": "3f59b9cb",
   "metadata": {},
   "outputs": [
    {
     "data": {
      "text/plain": [
       "[name: \"/device:CPU:0\"\n",
       " device_type: \"CPU\"\n",
       " memory_limit: 268435456\n",
       " locality {\n",
       " }\n",
       " incarnation: 14669409001624067958\n",
       " xla_global_id: -1,\n",
       " name: \"/device:GPU:0\"\n",
       " device_type: \"GPU\"\n",
       " memory_limit: 3643801600\n",
       " locality {\n",
       "   bus_id: 1\n",
       "   links {\n",
       "   }\n",
       " }\n",
       " incarnation: 901221671079254803\n",
       " physical_device_desc: \"device: 0, name: NVIDIA GeForce RTX 3060 Laptop GPU, pci bus id: 0000:01:00.0, compute capability: 8.6\"\n",
       " xla_global_id: 416903419]"
      ]
     },
     "execution_count": 1,
     "metadata": {},
     "output_type": "execute_result"
    }
   ],
   "source": [
    "from tensorflow.python.client import device_lib\n",
    "import os\n",
    "device_lib.list_local_devices()"
   ]
  },
  {
   "cell_type": "code",
   "execution_count": 2,
   "id": "fa0b12b0",
   "metadata": {},
   "outputs": [],
   "source": [
    "os.environ[\"CUDA_VISIBLE_DEVICES\"] = \"0\""
   ]
  },
  {
   "cell_type": "markdown",
   "id": "896d9744",
   "metadata": {},
   "source": [
    "# HomeMade PCA 불러오기"
   ]
  },
  {
   "cell_type": "code",
   "execution_count": 3,
   "id": "98c900a3",
   "metadata": {},
   "outputs": [
    {
     "name": "stdout",
     "output_type": "stream",
     "text": [
      "Handmade PCA가 초기화 되었습니다.\n",
      "pandas 라이브러리를 불러온 후, 'data = pandas.read_csv(데이터 경로)' 코드를 통해 데이터를 준비해주세요.\n",
      "데이터를 준비했다면, 'pca = handmade_pca(data)' 코드를 통해 분석을 시작해주세요.\n"
     ]
    }
   ],
   "source": [
    "from tool import handmade_pca"
   ]
  },
  {
   "cell_type": "markdown",
   "id": "232ad6b3",
   "metadata": {},
   "source": [
    "# 필요 라이브러리 추가로 불러오기"
   ]
  },
  {
   "cell_type": "code",
   "execution_count": 4,
   "id": "a3634265",
   "metadata": {},
   "outputs": [],
   "source": [
    "import pandas as pd # as를 통해 패키지명 축약 가능"
   ]
  },
  {
   "cell_type": "markdown",
   "id": "ad162621",
   "metadata": {},
   "source": [
    "# HandMade PCA 이용하여 분석 진행"
   ]
  },
  {
   "cell_type": "markdown",
   "id": "8165bdd4",
   "metadata": {},
   "source": [
    "## 용해탱크 데이터"
   ]
  },
  {
   "cell_type": "markdown",
   "id": "1c928468",
   "metadata": {},
   "source": [
    "### Pandas를 통해 데이터 준비하기"
   ]
  },
  {
   "cell_type": "code",
   "execution_count": 5,
   "id": "1d8b95e1",
   "metadata": {},
   "outputs": [],
   "source": [
    "melting_tank_data = pd.read_csv('./dataset/gen/melting_tank.csv')"
   ]
  },
  {
   "cell_type": "code",
   "execution_count": 6,
   "id": "6f826b6a",
   "metadata": {
    "scrolled": true
   },
   "outputs": [
    {
     "data": {
      "text/html": [
       "<div>\n",
       "<style scoped>\n",
       "    .dataframe tbody tr th:only-of-type {\n",
       "        vertical-align: middle;\n",
       "    }\n",
       "\n",
       "    .dataframe tbody tr th {\n",
       "        vertical-align: top;\n",
       "    }\n",
       "\n",
       "    .dataframe thead th {\n",
       "        text-align: right;\n",
       "    }\n",
       "</style>\n",
       "<table border=\"1\" class=\"dataframe\">\n",
       "  <thead>\n",
       "    <tr style=\"text-align: right;\">\n",
       "      <th></th>\n",
       "      <th>STD_DT</th>\n",
       "      <th>NUM</th>\n",
       "      <th>MELT_TEMP</th>\n",
       "      <th>MOTORSPEED</th>\n",
       "      <th>MELT_WEIGHT</th>\n",
       "      <th>INSP</th>\n",
       "      <th>TAG</th>\n",
       "    </tr>\n",
       "  </thead>\n",
       "  <tbody>\n",
       "    <tr>\n",
       "      <th>0</th>\n",
       "      <td>2020-03-04 0:00</td>\n",
       "      <td>0</td>\n",
       "      <td>489</td>\n",
       "      <td>116</td>\n",
       "      <td>631</td>\n",
       "      <td>3.19</td>\n",
       "      <td>OK</td>\n",
       "    </tr>\n",
       "    <tr>\n",
       "      <th>1</th>\n",
       "      <td>2020-03-04 0:00</td>\n",
       "      <td>1</td>\n",
       "      <td>433</td>\n",
       "      <td>78</td>\n",
       "      <td>609</td>\n",
       "      <td>3.19</td>\n",
       "      <td>OK</td>\n",
       "    </tr>\n",
       "    <tr>\n",
       "      <th>2</th>\n",
       "      <td>2020-03-04 0:00</td>\n",
       "      <td>2</td>\n",
       "      <td>464</td>\n",
       "      <td>154</td>\n",
       "      <td>608</td>\n",
       "      <td>3.19</td>\n",
       "      <td>OK</td>\n",
       "    </tr>\n",
       "    <tr>\n",
       "      <th>3</th>\n",
       "      <td>2020-03-04 0:00</td>\n",
       "      <td>3</td>\n",
       "      <td>379</td>\n",
       "      <td>212</td>\n",
       "      <td>606</td>\n",
       "      <td>3.19</td>\n",
       "      <td>OK</td>\n",
       "    </tr>\n",
       "    <tr>\n",
       "      <th>4</th>\n",
       "      <td>2020-03-04 0:00</td>\n",
       "      <td>4</td>\n",
       "      <td>798</td>\n",
       "      <td>1736</td>\n",
       "      <td>604</td>\n",
       "      <td>3.21</td>\n",
       "      <td>OK</td>\n",
       "    </tr>\n",
       "    <tr>\n",
       "      <th>...</th>\n",
       "      <td>...</td>\n",
       "      <td>...</td>\n",
       "      <td>...</td>\n",
       "      <td>...</td>\n",
       "      <td>...</td>\n",
       "      <td>...</td>\n",
       "      <td>...</td>\n",
       "    </tr>\n",
       "    <tr>\n",
       "      <th>835195</th>\n",
       "      <td>2020-04-30 23:59</td>\n",
       "      <td>835195</td>\n",
       "      <td>755</td>\n",
       "      <td>1743</td>\n",
       "      <td>318</td>\n",
       "      <td>3.21</td>\n",
       "      <td>OK</td>\n",
       "    </tr>\n",
       "    <tr>\n",
       "      <th>835196</th>\n",
       "      <td>2020-04-30 23:59</td>\n",
       "      <td>835196</td>\n",
       "      <td>385</td>\n",
       "      <td>206</td>\n",
       "      <td>317</td>\n",
       "      <td>3.19</td>\n",
       "      <td>OK</td>\n",
       "    </tr>\n",
       "    <tr>\n",
       "      <th>835197</th>\n",
       "      <td>2020-04-30 23:59</td>\n",
       "      <td>835197</td>\n",
       "      <td>465</td>\n",
       "      <td>148</td>\n",
       "      <td>316</td>\n",
       "      <td>3.20</td>\n",
       "      <td>OK</td>\n",
       "    </tr>\n",
       "    <tr>\n",
       "      <th>835198</th>\n",
       "      <td>2020-04-30 23:59</td>\n",
       "      <td>835198</td>\n",
       "      <td>467</td>\n",
       "      <td>0</td>\n",
       "      <td>314</td>\n",
       "      <td>3.19</td>\n",
       "      <td>OK</td>\n",
       "    </tr>\n",
       "    <tr>\n",
       "      <th>835199</th>\n",
       "      <td>2020-04-30 23:59</td>\n",
       "      <td>835199</td>\n",
       "      <td>453</td>\n",
       "      <td>125</td>\n",
       "      <td>312</td>\n",
       "      <td>3.20</td>\n",
       "      <td>OK</td>\n",
       "    </tr>\n",
       "  </tbody>\n",
       "</table>\n",
       "<p>835200 rows × 7 columns</p>\n",
       "</div>"
      ],
      "text/plain": [
       "                  STD_DT     NUM  MELT_TEMP  MOTORSPEED  MELT_WEIGHT  INSP TAG\n",
       "0        2020-03-04 0:00       0        489         116          631  3.19  OK\n",
       "1        2020-03-04 0:00       1        433          78          609  3.19  OK\n",
       "2        2020-03-04 0:00       2        464         154          608  3.19  OK\n",
       "3        2020-03-04 0:00       3        379         212          606  3.19  OK\n",
       "4        2020-03-04 0:00       4        798        1736          604  3.21  OK\n",
       "...                  ...     ...        ...         ...          ...   ...  ..\n",
       "835195  2020-04-30 23:59  835195        755        1743          318  3.21  OK\n",
       "835196  2020-04-30 23:59  835196        385         206          317  3.19  OK\n",
       "835197  2020-04-30 23:59  835197        465         148          316  3.20  OK\n",
       "835198  2020-04-30 23:59  835198        467           0          314  3.19  OK\n",
       "835199  2020-04-30 23:59  835199        453         125          312  3.20  OK\n",
       "\n",
       "[835200 rows x 7 columns]"
      ]
     },
     "execution_count": 6,
     "metadata": {},
     "output_type": "execute_result"
    }
   ],
   "source": [
    "pd.set_option('display.max_columns', 50) # 컬럼 생략없이 데이터 프레임 확인 가능\n",
    "melting_tank_data"
   ]
  },
  {
   "cell_type": "markdown",
   "id": "714c3e75",
   "metadata": {},
   "source": [
    "### 전처리 및 시각화 진행"
   ]
  },
  {
   "cell_type": "code",
   "execution_count": 7,
   "id": "021bcd27",
   "metadata": {
    "scrolled": false
   },
   "outputs": [
    {
     "name": "stdout",
     "output_type": "stream",
     "text": [
      "'.set_data()'를 통해 변수를 지정하고 분석을 위한 데이터를 생성해주세요.\n"
     ]
    }
   ],
   "source": [
    "melting_tank_pca = handmade_pca(melting_tank_data)"
   ]
  },
  {
   "cell_type": "code",
   "execution_count": 8,
   "id": "3c87c268",
   "metadata": {
    "scrolled": false
   },
   "outputs": [
    {
     "name": "stdout",
     "output_type": "stream",
     "text": [
      "변수:\n",
      "1 STD_DT\n",
      "2 NUM\n",
      "3 MELT_TEMP\n",
      "4 MOTORSPEED\n",
      "5 MELT_WEIGHT\n",
      "6 INSP\n",
      "7 TAG\n",
      "\n",
      "'.하나 이상의 독립변수와 종속변수 하나를 지정해주세요.\n",
      "위의 보기를 확인하고 독립변수들의 번호를 x, 종속변수의 번호를 y에 넣어주세요.\n",
      "\n",
      "***독립변수 선택이 어렵다면 날짜, 번호 관련 변수를 제외하고 모두 선택해주세요.***\n",
      "\n",
      "ex1) x: 1 2 3 4 5 8 9 10 / y = 46\n",
      "ex2) x: 1:5 8:10 / y = 46\n",
      "ex3) x: 1:5 8 9 10 / y = 46\n",
      "x: 3:6\n",
      "y: 7\n",
      "데이터 불균형이 존재합니다. '.smote()'를 통한 데이터 불균형 해소를 추천합니다.'\n",
      "SMOTE는 최근접 이웃(k-NN) 알고리즘을 기반으로 하여 데이터를 새로 생성해 종속변수 데이터가 같은 비율을 갖게 하는 알고리즘 입니다.\n"
     ]
    },
    {
     "data": {
      "text/html": [
       "<div>\n",
       "<style scoped>\n",
       "    .dataframe tbody tr th:only-of-type {\n",
       "        vertical-align: middle;\n",
       "    }\n",
       "\n",
       "    .dataframe tbody tr th {\n",
       "        vertical-align: top;\n",
       "    }\n",
       "\n",
       "    .dataframe thead th {\n",
       "        text-align: right;\n",
       "    }\n",
       "</style>\n",
       "<table border=\"1\" class=\"dataframe\">\n",
       "  <thead>\n",
       "    <tr style=\"text-align: right;\">\n",
       "      <th></th>\n",
       "      <th>MELT_TEMP</th>\n",
       "      <th>MOTORSPEED</th>\n",
       "      <th>MELT_WEIGHT</th>\n",
       "      <th>INSP</th>\n",
       "      <th>TAG</th>\n",
       "    </tr>\n",
       "  </thead>\n",
       "  <tbody>\n",
       "    <tr>\n",
       "      <th>0</th>\n",
       "      <td>489</td>\n",
       "      <td>116</td>\n",
       "      <td>631</td>\n",
       "      <td>3.19</td>\n",
       "      <td>OK</td>\n",
       "    </tr>\n",
       "    <tr>\n",
       "      <th>1</th>\n",
       "      <td>433</td>\n",
       "      <td>78</td>\n",
       "      <td>609</td>\n",
       "      <td>3.19</td>\n",
       "      <td>OK</td>\n",
       "    </tr>\n",
       "    <tr>\n",
       "      <th>2</th>\n",
       "      <td>464</td>\n",
       "      <td>154</td>\n",
       "      <td>608</td>\n",
       "      <td>3.19</td>\n",
       "      <td>OK</td>\n",
       "    </tr>\n",
       "    <tr>\n",
       "      <th>3</th>\n",
       "      <td>379</td>\n",
       "      <td>212</td>\n",
       "      <td>606</td>\n",
       "      <td>3.19</td>\n",
       "      <td>OK</td>\n",
       "    </tr>\n",
       "    <tr>\n",
       "      <th>4</th>\n",
       "      <td>798</td>\n",
       "      <td>1736</td>\n",
       "      <td>604</td>\n",
       "      <td>3.21</td>\n",
       "      <td>OK</td>\n",
       "    </tr>\n",
       "    <tr>\n",
       "      <th>...</th>\n",
       "      <td>...</td>\n",
       "      <td>...</td>\n",
       "      <td>...</td>\n",
       "      <td>...</td>\n",
       "      <td>...</td>\n",
       "    </tr>\n",
       "    <tr>\n",
       "      <th>835195</th>\n",
       "      <td>755</td>\n",
       "      <td>1743</td>\n",
       "      <td>318</td>\n",
       "      <td>3.21</td>\n",
       "      <td>OK</td>\n",
       "    </tr>\n",
       "    <tr>\n",
       "      <th>835196</th>\n",
       "      <td>385</td>\n",
       "      <td>206</td>\n",
       "      <td>317</td>\n",
       "      <td>3.19</td>\n",
       "      <td>OK</td>\n",
       "    </tr>\n",
       "    <tr>\n",
       "      <th>835197</th>\n",
       "      <td>465</td>\n",
       "      <td>148</td>\n",
       "      <td>316</td>\n",
       "      <td>3.20</td>\n",
       "      <td>OK</td>\n",
       "    </tr>\n",
       "    <tr>\n",
       "      <th>835198</th>\n",
       "      <td>467</td>\n",
       "      <td>0</td>\n",
       "      <td>314</td>\n",
       "      <td>3.19</td>\n",
       "      <td>OK</td>\n",
       "    </tr>\n",
       "    <tr>\n",
       "      <th>835199</th>\n",
       "      <td>453</td>\n",
       "      <td>125</td>\n",
       "      <td>312</td>\n",
       "      <td>3.20</td>\n",
       "      <td>OK</td>\n",
       "    </tr>\n",
       "  </tbody>\n",
       "</table>\n",
       "<p>835200 rows × 5 columns</p>\n",
       "</div>"
      ],
      "text/plain": [
       "        MELT_TEMP  MOTORSPEED  MELT_WEIGHT  INSP TAG\n",
       "0             489         116          631  3.19  OK\n",
       "1             433          78          609  3.19  OK\n",
       "2             464         154          608  3.19  OK\n",
       "3             379         212          606  3.19  OK\n",
       "4             798        1736          604  3.21  OK\n",
       "...           ...         ...          ...   ...  ..\n",
       "835195        755        1743          318  3.21  OK\n",
       "835196        385         206          317  3.19  OK\n",
       "835197        465         148          316  3.20  OK\n",
       "835198        467           0          314  3.19  OK\n",
       "835199        453         125          312  3.20  OK\n",
       "\n",
       "[835200 rows x 5 columns]"
      ]
     },
     "execution_count": 8,
     "metadata": {},
     "output_type": "execute_result"
    }
   ],
   "source": [
    "melting_tank_pca.set_data()"
   ]
  },
  {
   "cell_type": "code",
   "execution_count": null,
   "id": "cc3590d4",
   "metadata": {},
   "outputs": [],
   "source": []
  },
  {
   "cell_type": "code",
   "execution_count": 9,
   "id": "b2866e30",
   "metadata": {},
   "outputs": [
    {
     "name": "stdout",
     "output_type": "stream",
     "text": [
      "기존 데이터 형태:  (835200, 4) (835200,)\n",
      "SMOTE 적용 후 데이터 형태:  (1316266, 4) (1316266,)\n",
      "SMOTE 적용 후 종속변수 데이터 분포: \n",
      " OK    658133\n",
      "NG    658133\n",
      "Name: count, dtype: int64\n",
      "분석을 위한 데이터 생성이 완료되었습니다. '.train_split()'을 통해 데이터 분할을 진행하세요.\n",
      "독립변수의 수가 너무 많다면 '.pca()'를 통한 차원 축소를 추천합니다.\n"
     ]
    },
    {
     "data": {
      "text/html": [
       "<div>\n",
       "<style scoped>\n",
       "    .dataframe tbody tr th:only-of-type {\n",
       "        vertical-align: middle;\n",
       "    }\n",
       "\n",
       "    .dataframe tbody tr th {\n",
       "        vertical-align: top;\n",
       "    }\n",
       "\n",
       "    .dataframe thead th {\n",
       "        text-align: right;\n",
       "    }\n",
       "</style>\n",
       "<table border=\"1\" class=\"dataframe\">\n",
       "  <thead>\n",
       "    <tr style=\"text-align: right;\">\n",
       "      <th></th>\n",
       "      <th>MELT_TEMP</th>\n",
       "      <th>MOTORSPEED</th>\n",
       "      <th>MELT_WEIGHT</th>\n",
       "      <th>INSP</th>\n",
       "      <th>TAG</th>\n",
       "    </tr>\n",
       "  </thead>\n",
       "  <tbody>\n",
       "    <tr>\n",
       "      <th>0</th>\n",
       "      <td>489.000000</td>\n",
       "      <td>116.000000</td>\n",
       "      <td>631.000000</td>\n",
       "      <td>3.190000</td>\n",
       "      <td>OK</td>\n",
       "    </tr>\n",
       "    <tr>\n",
       "      <th>1</th>\n",
       "      <td>433.000000</td>\n",
       "      <td>78.000000</td>\n",
       "      <td>609.000000</td>\n",
       "      <td>3.190000</td>\n",
       "      <td>OK</td>\n",
       "    </tr>\n",
       "    <tr>\n",
       "      <th>2</th>\n",
       "      <td>464.000000</td>\n",
       "      <td>154.000000</td>\n",
       "      <td>608.000000</td>\n",
       "      <td>3.190000</td>\n",
       "      <td>OK</td>\n",
       "    </tr>\n",
       "    <tr>\n",
       "      <th>3</th>\n",
       "      <td>379.000000</td>\n",
       "      <td>212.000000</td>\n",
       "      <td>606.000000</td>\n",
       "      <td>3.190000</td>\n",
       "      <td>OK</td>\n",
       "    </tr>\n",
       "    <tr>\n",
       "      <th>4</th>\n",
       "      <td>798.000000</td>\n",
       "      <td>1736.000000</td>\n",
       "      <td>604.000000</td>\n",
       "      <td>3.210000</td>\n",
       "      <td>OK</td>\n",
       "    </tr>\n",
       "    <tr>\n",
       "      <th>...</th>\n",
       "      <td>...</td>\n",
       "      <td>...</td>\n",
       "      <td>...</td>\n",
       "      <td>...</td>\n",
       "      <td>...</td>\n",
       "    </tr>\n",
       "    <tr>\n",
       "      <th>1316261</th>\n",
       "      <td>435.955279</td>\n",
       "      <td>67.955279</td>\n",
       "      <td>647.910559</td>\n",
       "      <td>3.199553</td>\n",
       "      <td>NG</td>\n",
       "    </tr>\n",
       "    <tr>\n",
       "      <th>1316262</th>\n",
       "      <td>415.020170</td>\n",
       "      <td>72.020170</td>\n",
       "      <td>496.080680</td>\n",
       "      <td>3.190000</td>\n",
       "      <td>NG</td>\n",
       "    </tr>\n",
       "    <tr>\n",
       "      <th>1316263</th>\n",
       "      <td>444.306938</td>\n",
       "      <td>172.043316</td>\n",
       "      <td>1696.870051</td>\n",
       "      <td>3.190000</td>\n",
       "      <td>NG</td>\n",
       "    </tr>\n",
       "    <tr>\n",
       "      <th>1316264</th>\n",
       "      <td>341.880105</td>\n",
       "      <td>240.940053</td>\n",
       "      <td>89.760210</td>\n",
       "      <td>3.186467</td>\n",
       "      <td>NG</td>\n",
       "    </tr>\n",
       "    <tr>\n",
       "      <th>1316265</th>\n",
       "      <td>453.842798</td>\n",
       "      <td>89.471606</td>\n",
       "      <td>314.157202</td>\n",
       "      <td>3.190000</td>\n",
       "      <td>NG</td>\n",
       "    </tr>\n",
       "  </tbody>\n",
       "</table>\n",
       "<p>1316266 rows × 5 columns</p>\n",
       "</div>"
      ],
      "text/plain": [
       "          MELT_TEMP   MOTORSPEED  MELT_WEIGHT      INSP TAG\n",
       "0        489.000000   116.000000   631.000000  3.190000  OK\n",
       "1        433.000000    78.000000   609.000000  3.190000  OK\n",
       "2        464.000000   154.000000   608.000000  3.190000  OK\n",
       "3        379.000000   212.000000   606.000000  3.190000  OK\n",
       "4        798.000000  1736.000000   604.000000  3.210000  OK\n",
       "...             ...          ...          ...       ...  ..\n",
       "1316261  435.955279    67.955279   647.910559  3.199553  NG\n",
       "1316262  415.020170    72.020170   496.080680  3.190000  NG\n",
       "1316263  444.306938   172.043316  1696.870051  3.190000  NG\n",
       "1316264  341.880105   240.940053    89.760210  3.186467  NG\n",
       "1316265  453.842798    89.471606   314.157202  3.190000  NG\n",
       "\n",
       "[1316266 rows x 5 columns]"
      ]
     },
     "execution_count": 9,
     "metadata": {},
     "output_type": "execute_result"
    }
   ],
   "source": [
    "melting_tank_pca.smote()"
   ]
  },
  {
   "cell_type": "code",
   "execution_count": 10,
   "id": "3fba2898",
   "metadata": {
    "scrolled": false
   },
   "outputs": [],
   "source": [
    "# melting_tank_pca.pca()"
   ]
  },
  {
   "cell_type": "code",
   "execution_count": 11,
   "id": "a0ce698b",
   "metadata": {},
   "outputs": [],
   "source": [
    "# melting_tank_pca.pca_visualize(dimension='2d')"
   ]
  },
  {
   "cell_type": "code",
   "execution_count": null,
   "id": "633b27ce",
   "metadata": {},
   "outputs": [
    {
     "name": "stdout",
     "output_type": "stream",
     "text": [
      "원하는 훈련용/시험용 데이터 비율을 입력해주세요. (추천: 0.6 0.2 0.2)\n",
      "검증용 데이터를 필요로 하지 않는 모델에서는 검증용 데이터는 훈련용 데이터로 사용됩니다.\n",
      "숫자 0을 입력하면 추천 개수로 데이터 분할을 진행합니다.\n"
     ]
    }
   ],
   "source": [
    "melting_tank_pca.train_split()"
   ]
  },
  {
   "cell_type": "code",
   "execution_count": null,
   "id": "7a800c25",
   "metadata": {},
   "outputs": [],
   "source": [
    "melting_tank_pca.train()"
   ]
  },
  {
   "cell_type": "code",
   "execution_count": null,
   "id": "2ba3ac48",
   "metadata": {},
   "outputs": [],
   "source": [
    "melting_tank_pca.predict()"
   ]
  },
  {
   "cell_type": "markdown",
   "id": "3ab7c584",
   "metadata": {},
   "source": [
    "## CNC 데이터"
   ]
  },
  {
   "cell_type": "markdown",
   "id": "c016a9f3",
   "metadata": {},
   "source": [
    "### Pandas를 통해 데이터 준비하기"
   ]
  },
  {
   "cell_type": "code",
   "execution_count": null,
   "id": "625b75ee",
   "metadata": {},
   "outputs": [],
   "source": [
    "cnc_data = pd.read_csv('./dataset/gen/data.csv')"
   ]
  },
  {
   "cell_type": "code",
   "execution_count": null,
   "id": "4e9e8722",
   "metadata": {},
   "outputs": [],
   "source": [
    "pd.set_option('display.max_columns', 50) # 컬럼 생략없이 데이터 프레임 확인 가능\n",
    "cnc_data"
   ]
  },
  {
   "cell_type": "markdown",
   "id": "6fcd4474",
   "metadata": {},
   "source": [
    "### 전처리 및 시각화 진행"
   ]
  },
  {
   "cell_type": "code",
   "execution_count": null,
   "id": "9d71f541",
   "metadata": {},
   "outputs": [],
   "source": [
    "cnc_pca = handmade_pca(cnc_data)"
   ]
  },
  {
   "cell_type": "code",
   "execution_count": null,
   "id": "4705377a",
   "metadata": {},
   "outputs": [],
   "source": [
    "cnc_pca.set_data()"
   ]
  },
  {
   "cell_type": "code",
   "execution_count": null,
   "id": "706fe007",
   "metadata": {},
   "outputs": [],
   "source": [
    "cnc_pca.smote()"
   ]
  },
  {
   "cell_type": "code",
   "execution_count": null,
   "id": "7b84eaff",
   "metadata": {},
   "outputs": [],
   "source": [
    "cnc_pca.pca()"
   ]
  },
  {
   "cell_type": "code",
   "execution_count": null,
   "id": "5f3c337f",
   "metadata": {},
   "outputs": [],
   "source": [
    "cnc_pca.train_split()"
   ]
  },
  {
   "cell_type": "code",
   "execution_count": null,
   "id": "497b12a0",
   "metadata": {
    "scrolled": true
   },
   "outputs": [],
   "source": [
    "cnc_pca.train()"
   ]
  },
  {
   "cell_type": "code",
   "execution_count": null,
   "id": "f6121cf4",
   "metadata": {},
   "outputs": [],
   "source": [
    "cnc_pca.predict()"
   ]
  },
  {
   "cell_type": "markdown",
   "id": "ac1ab199",
   "metadata": {},
   "source": [
    "# 업데이트 예정.."
   ]
  }
 ],
 "metadata": {
  "kernelspec": {
   "display_name": "univ_project",
   "language": "python",
   "name": "univ"
  },
  "language_info": {
   "codemirror_mode": {
    "name": "ipython",
    "version": 3
   },
   "file_extension": ".py",
   "mimetype": "text/x-python",
   "name": "python",
   "nbconvert_exporter": "python",
   "pygments_lexer": "ipython3",
   "version": "3.10.0"
  }
 },
 "nbformat": 4,
 "nbformat_minor": 5
}
