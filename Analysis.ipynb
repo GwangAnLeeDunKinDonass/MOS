{
 "cells": [
  {
   "cell_type": "markdown",
   "id": "30a249e3",
   "metadata": {},
   "source": [
    "# Import Library"
   ]
  },
  {
   "cell_type": "code",
   "execution_count": 1,
   "id": "652ca884",
   "metadata": {},
   "outputs": [],
   "source": [
    "import pandas as pd\n",
    "import numpy as np\n",
    "from tqdm import tqdm\n",
    "from sklearn.model_selection import train_test_split\n",
    "import os\n",
    "from sklearn import metrics"
   ]
  },
  {
   "cell_type": "markdown",
   "id": "f4e1d51e",
   "metadata": {},
   "source": [
    "# DNN"
   ]
  },
  {
   "cell_type": "markdown",
   "id": "f8827cd3",
   "metadata": {},
   "source": [
    "## Split Data"
   ]
  },
  {
   "cell_type": "code",
   "execution_count": null,
   "id": "515578f7",
   "metadata": {},
   "outputs": [],
   "source": [
    "x_data = pdf.iloc[:,:len(pdf.columns)-1].to_numpy()\n",
    "y_data = pdf.iloc[:,-1].to_numpy()"
   ]
  },
  {
   "cell_type": "code",
   "execution_count": null,
   "id": "44d93c56",
   "metadata": {},
   "outputs": [],
   "source": [
    "x_train, x_test, y_train, y_test = train_test_split(x_data, y_data, test_size=0.2, random_state=0)\n",
    "x_train, x_val, y_train, y_val = train_test_split(x_train, y_train, test_size=0.25, random_state=0)\n",
    "print(x_train.shape, x_val.shape, x_test.shape)"
   ]
  },
  {
   "cell_type": "code",
   "execution_count": null,
   "id": "8389f5b2",
   "metadata": {},
   "outputs": [],
   "source": [
    "x_train = x_train.reshape(x_train.shape[0],-1,1)\n",
    "x_val = x_val.reshape(x_val.shape[0],-1,1)\n",
    "x_test = x_test.reshape(x_test.shape[0],-1,1)"
   ]
  },
  {
   "cell_type": "markdown",
   "id": "a3b072c5",
   "metadata": {},
   "source": [
    "## Set Environment"
   ]
  },
  {
   "cell_type": "code",
   "execution_count": null,
   "id": "29196ac8",
   "metadata": {},
   "outputs": [],
   "source": [
    "from tensorflow.python.client import device_lib\n",
    "device_lib.list_local_devices()"
   ]
  },
  {
   "cell_type": "code",
   "execution_count": null,
   "id": "773f578e",
   "metadata": {},
   "outputs": [],
   "source": [
    "os.environ[\"CUDA_VISIBLE_DEVICES\"] = \"0\""
   ]
  },
  {
   "cell_type": "markdown",
   "id": "50737910",
   "metadata": {},
   "source": [
    "## Set Model & Train"
   ]
  },
  {
   "cell_type": "code",
   "execution_count": null,
   "id": "a20adcdb",
   "metadata": {},
   "outputs": [],
   "source": [
    "import tensorflow as tf\n",
    "from tensorflow.keras.models import Sequential, Model\n",
    "from tensorflow.keras.layers import Dense,Dropout,Input, Activation, BatchNormalization\n",
    "\n",
    "model = Sequential()\n",
    "model.add(Dense(128, activation=\"relu\",input_shape=(x_train.shape[1],)))\n",
    "model.add(Dense(128, activation=\"relu\"))\n",
    "model.add(Dropout(0.3))\n",
    "model.add(Dense(64, activation=\"relu\"))\n",
    "model.add(Dense(64, activation=\"relu\"))\n",
    "model.add(Dropout(0.3))\n",
    "model.add(Dense(16, activation=\"relu\"))\n",
    "model.add(Dense(1, activation=\"sigmoid\"))\n",
    "\n",
    "model.compile(loss='binary_crossentropy', optimizer='adam', metrics=['acc'])\n",
    "\n",
    "model.summary()"
   ]
  },
  {
   "cell_type": "code",
   "execution_count": null,
   "id": "862f25a4",
   "metadata": {},
   "outputs": [],
   "source": [
    "from tensorflow.keras.callbacks import EarlyStopping, ModelCheckpoint\n",
    "\n",
    "callbacks = [tf.keras.callbacks.EarlyStopping(monitor='val_loss',patience=6, mode='min'),\n",
    "             tf.keras.callbacks.ModelCheckpoint('./best1.h5', monitor='val_loss',save_best_only=True, mode='min')\n",
    "            ]\n",
    "\n",
    "model.fit(x_train, y_train, epochs=100, validation_data = (x_val, y_val),\n",
    "          batch_size=32, verbose=1, callbacks=callbacks)"
   ]
  },
  {
   "cell_type": "markdown",
   "id": "81420909",
   "metadata": {},
   "source": [
    "## Evaluate"
   ]
  },
  {
   "cell_type": "code",
   "execution_count": null,
   "id": "20647874",
   "metadata": {},
   "outputs": [],
   "source": [
    "y_pred = model.predict(x_test)\n",
    "\n",
    "y_pred = y_pred.reshape(-1)\n",
    "\n",
    "for y in range(len(y_pred)):\n",
    "    if y_pred[y] >= 0.5:\n",
    "        y_pred[y] = 1\n",
    "    else:\n",
    "        y_pred[y] = 0\n",
    "        \n",
    "y_pred = y_pred.reshape(-1,1)\n",
    "y_pred"
   ]
  },
  {
   "cell_type": "code",
   "execution_count": null,
   "id": "a9712660",
   "metadata": {},
   "outputs": [],
   "source": [
    "accuracy = metrics.accuracy_score(y_test, y_pred)\n",
    "print(\"정확도:\", accuracy)\n",
    "\n",
    "precision = metrics.precision_score(y_test, y_pred)\n",
    "print(\"정밀도:\", precision)\n",
    "\n",
    "recall = metrics.recall_score(y_test, y_pred)\n",
    "print(\"재현율:\", recall)\n",
    "\n",
    "f1 = metrics.f1_score(y_test, y_pred)\n",
    "print(\"f1 점수:\", f1)"
   ]
  }
 ],
 "metadata": {
  "kernelspec": {
   "display_name": "univ_project",
   "language": "python",
   "name": "univ"
  },
  "language_info": {
   "codemirror_mode": {
    "name": "ipython",
    "version": 3
   },
   "file_extension": ".py",
   "mimetype": "text/x-python",
   "name": "python",
   "nbconvert_exporter": "python",
   "pygments_lexer": "ipython3",
   "version": "3.10.0"
  }
 },
 "nbformat": 4,
 "nbformat_minor": 5
}
