{
 "cells": [
  {
   "cell_type": "code",
   "execution_count": 1,
   "id": "2cbb82d4",
   "metadata": {
    "scrolled": true
   },
   "outputs": [],
   "source": [
    "from __future__ import print_function\n",
    "import pandas as pd\n",
    "import seaborn as sns\n",
    "from sklearn.ensemble import RandomForestClassifier\n",
    "from sklearn.model_selection import train_test_split\n",
    "from sklearn.metrics import accuracy_score\n",
    "from sklearn.model_selection import KFold\n",
    "from sklearn.metrics import confusion_matrix, classification_report\n"
   ]
  },
  {
   "cell_type": "code",
   "execution_count": 3,
   "id": "f8f4bddd",
   "metadata": {},
   "outputs": [],
   "source": [
    "data=pd.read_csv('./dataset/gen/data.csv')"
   ]
  },
  {
   "cell_type": "code",
   "execution_count": 4,
   "id": "3f3ba2cd",
   "metadata": {},
   "outputs": [
    {
     "data": {
      "text/html": [
       "<div>\n",
       "<style scoped>\n",
       "    .dataframe tbody tr th:only-of-type {\n",
       "        vertical-align: middle;\n",
       "    }\n",
       "\n",
       "    .dataframe tbody tr th {\n",
       "        vertical-align: top;\n",
       "    }\n",
       "\n",
       "    .dataframe thead th {\n",
       "        text-align: right;\n",
       "    }\n",
       "</style>\n",
       "<table border=\"1\" class=\"dataframe\">\n",
       "  <thead>\n",
       "    <tr style=\"text-align: right;\">\n",
       "      <th></th>\n",
       "      <th>X_ActualPosition</th>\n",
       "      <th>X_ActualVelocity</th>\n",
       "      <th>X_ActualAcceleration</th>\n",
       "      <th>X_SetPosition</th>\n",
       "      <th>X_SetVelocity</th>\n",
       "      <th>X_SetAcceleration</th>\n",
       "      <th>X_CurrentFeedback</th>\n",
       "      <th>X_DCBusVoltage</th>\n",
       "      <th>X_OutputCurrent</th>\n",
       "      <th>X_OutputVoltage</th>\n",
       "      <th>...</th>\n",
       "      <th>S_SetVelocity</th>\n",
       "      <th>S_SetAcceleration</th>\n",
       "      <th>S_CurrentFeedback</th>\n",
       "      <th>S_DCBusVoltage</th>\n",
       "      <th>S_OutputCurrent</th>\n",
       "      <th>S_OutputVoltage</th>\n",
       "      <th>S_OutputPower</th>\n",
       "      <th>S_SystemInertia</th>\n",
       "      <th>M_CURRENT_FEEDRATE</th>\n",
       "      <th>error</th>\n",
       "    </tr>\n",
       "  </thead>\n",
       "  <tbody>\n",
       "    <tr>\n",
       "      <th>0</th>\n",
       "      <td>202.0</td>\n",
       "      <td>4.0000</td>\n",
       "      <td>4.00</td>\n",
       "      <td>202.0</td>\n",
       "      <td>4.0</td>\n",
       "      <td>4.000000</td>\n",
       "      <td>0.180</td>\n",
       "      <td>0.0207</td>\n",
       "      <td>329</td>\n",
       "      <td>2.77</td>\n",
       "      <td>...</td>\n",
       "      <td>4.00</td>\n",
       "      <td>4.0</td>\n",
       "      <td>0.524</td>\n",
       "      <td>2.740000e-19</td>\n",
       "      <td>329</td>\n",
       "      <td>0.0</td>\n",
       "      <td>6.960000e-07</td>\n",
       "      <td>16.0</td>\n",
       "      <td>50</td>\n",
       "      <td>0</td>\n",
       "    </tr>\n",
       "    <tr>\n",
       "      <th>1</th>\n",
       "      <td>202.0</td>\n",
       "      <td>-6.8000</td>\n",
       "      <td>-346.00</td>\n",
       "      <td>202.0</td>\n",
       "      <td>-9.6</td>\n",
       "      <td>-354.000000</td>\n",
       "      <td>-10.900</td>\n",
       "      <td>0.1860</td>\n",
       "      <td>328</td>\n",
       "      <td>23.30</td>\n",
       "      <td>...</td>\n",
       "      <td>4.00</td>\n",
       "      <td>4.0</td>\n",
       "      <td>-0.288</td>\n",
       "      <td>2.740000e-19</td>\n",
       "      <td>328</td>\n",
       "      <td>0.0</td>\n",
       "      <td>-5.270000e-07</td>\n",
       "      <td>16.0</td>\n",
       "      <td>50</td>\n",
       "      <td>0</td>\n",
       "    </tr>\n",
       "    <tr>\n",
       "      <th>2</th>\n",
       "      <td>200.0</td>\n",
       "      <td>-13.8000</td>\n",
       "      <td>-2.25</td>\n",
       "      <td>200.0</td>\n",
       "      <td>-13.9</td>\n",
       "      <td>3.999905</td>\n",
       "      <td>-8.590</td>\n",
       "      <td>0.1400</td>\n",
       "      <td>328</td>\n",
       "      <td>30.60</td>\n",
       "      <td>...</td>\n",
       "      <td>4.00</td>\n",
       "      <td>4.0</td>\n",
       "      <td>0.524</td>\n",
       "      <td>2.740000e-19</td>\n",
       "      <td>328</td>\n",
       "      <td>0.0</td>\n",
       "      <td>9.100000e-07</td>\n",
       "      <td>16.0</td>\n",
       "      <td>50</td>\n",
       "      <td>0</td>\n",
       "    </tr>\n",
       "    <tr>\n",
       "      <th>3</th>\n",
       "      <td>198.0</td>\n",
       "      <td>-14.0000</td>\n",
       "      <td>4.00</td>\n",
       "      <td>198.0</td>\n",
       "      <td>-13.9</td>\n",
       "      <td>3.999905</td>\n",
       "      <td>-6.110</td>\n",
       "      <td>0.1300</td>\n",
       "      <td>327</td>\n",
       "      <td>30.30</td>\n",
       "      <td>...</td>\n",
       "      <td>4.00</td>\n",
       "      <td>4.0</td>\n",
       "      <td>-0.180</td>\n",
       "      <td>2.740000e-19</td>\n",
       "      <td>328</td>\n",
       "      <td>0.0</td>\n",
       "      <td>1.070000e-06</td>\n",
       "      <td>16.0</td>\n",
       "      <td>50</td>\n",
       "      <td>0</td>\n",
       "    </tr>\n",
       "    <tr>\n",
       "      <th>4</th>\n",
       "      <td>197.0</td>\n",
       "      <td>-13.9000</td>\n",
       "      <td>-14.80</td>\n",
       "      <td>196.0</td>\n",
       "      <td>-13.9</td>\n",
       "      <td>4.000095</td>\n",
       "      <td>-5.700</td>\n",
       "      <td>0.1140</td>\n",
       "      <td>328</td>\n",
       "      <td>30.50</td>\n",
       "      <td>...</td>\n",
       "      <td>4.00</td>\n",
       "      <td>4.0</td>\n",
       "      <td>0.226</td>\n",
       "      <td>2.740000e-19</td>\n",
       "      <td>328</td>\n",
       "      <td>0.0</td>\n",
       "      <td>1.960000e-06</td>\n",
       "      <td>16.0</td>\n",
       "      <td>50</td>\n",
       "      <td>0</td>\n",
       "    </tr>\n",
       "    <tr>\n",
       "      <th>...</th>\n",
       "      <td>...</td>\n",
       "      <td>...</td>\n",
       "      <td>...</td>\n",
       "      <td>...</td>\n",
       "      <td>...</td>\n",
       "      <td>...</td>\n",
       "      <td>...</td>\n",
       "      <td>...</td>\n",
       "      <td>...</td>\n",
       "      <td>...</td>\n",
       "      <td>...</td>\n",
       "      <td>...</td>\n",
       "      <td>...</td>\n",
       "      <td>...</td>\n",
       "      <td>...</td>\n",
       "      <td>...</td>\n",
       "      <td>...</td>\n",
       "      <td>...</td>\n",
       "      <td>...</td>\n",
       "      <td>...</td>\n",
       "      <td>...</td>\n",
       "    </tr>\n",
       "    <tr>\n",
       "      <th>32043</th>\n",
       "      <td>179.0</td>\n",
       "      <td>3.5625</td>\n",
       "      <td>8.15</td>\n",
       "      <td>179.0</td>\n",
       "      <td>3.5</td>\n",
       "      <td>5.000000</td>\n",
       "      <td>-0.941</td>\n",
       "      <td>0.0215</td>\n",
       "      <td>328</td>\n",
       "      <td>1.79</td>\n",
       "      <td>...</td>\n",
       "      <td>31.65</td>\n",
       "      <td>5.0</td>\n",
       "      <td>0.244</td>\n",
       "      <td>2.770000e-19</td>\n",
       "      <td>328</td>\n",
       "      <td>0.0</td>\n",
       "      <td>-3.020000e-06</td>\n",
       "      <td>17.0</td>\n",
       "      <td>20</td>\n",
       "      <td>0</td>\n",
       "    </tr>\n",
       "    <tr>\n",
       "      <th>32044</th>\n",
       "      <td>178.5</td>\n",
       "      <td>3.5350</td>\n",
       "      <td>30.00</td>\n",
       "      <td>178.5</td>\n",
       "      <td>3.5</td>\n",
       "      <td>5.000000</td>\n",
       "      <td>-0.780</td>\n",
       "      <td>0.0202</td>\n",
       "      <td>328</td>\n",
       "      <td>1.07</td>\n",
       "      <td>...</td>\n",
       "      <td>31.65</td>\n",
       "      <td>5.0</td>\n",
       "      <td>0.244</td>\n",
       "      <td>2.770000e-19</td>\n",
       "      <td>328</td>\n",
       "      <td>0.0</td>\n",
       "      <td>0.000000e+00</td>\n",
       "      <td>17.0</td>\n",
       "      <td>20</td>\n",
       "      <td>0</td>\n",
       "    </tr>\n",
       "    <tr>\n",
       "      <th>32045</th>\n",
       "      <td>178.5</td>\n",
       "      <td>3.5475</td>\n",
       "      <td>17.50</td>\n",
       "      <td>178.5</td>\n",
       "      <td>3.5</td>\n",
       "      <td>5.000000</td>\n",
       "      <td>0.501</td>\n",
       "      <td>0.0190</td>\n",
       "      <td>328</td>\n",
       "      <td>0.99</td>\n",
       "      <td>...</td>\n",
       "      <td>31.65</td>\n",
       "      <td>5.0</td>\n",
       "      <td>0.128</td>\n",
       "      <td>2.770000e-19</td>\n",
       "      <td>328</td>\n",
       "      <td>0.0</td>\n",
       "      <td>0.000000e+00</td>\n",
       "      <td>17.0</td>\n",
       "      <td>20</td>\n",
       "      <td>0</td>\n",
       "    </tr>\n",
       "    <tr>\n",
       "      <th>32046</th>\n",
       "      <td>178.5</td>\n",
       "      <td>3.4475</td>\n",
       "      <td>11.25</td>\n",
       "      <td>178.5</td>\n",
       "      <td>3.5</td>\n",
       "      <td>5.000000</td>\n",
       "      <td>-0.298</td>\n",
       "      <td>0.0193</td>\n",
       "      <td>328</td>\n",
       "      <td>1.37</td>\n",
       "      <td>...</td>\n",
       "      <td>31.65</td>\n",
       "      <td>5.0</td>\n",
       "      <td>0.657</td>\n",
       "      <td>2.770000e-19</td>\n",
       "      <td>328</td>\n",
       "      <td>0.0</td>\n",
       "      <td>-7.980000e-06</td>\n",
       "      <td>17.0</td>\n",
       "      <td>20</td>\n",
       "      <td>0</td>\n",
       "    </tr>\n",
       "    <tr>\n",
       "      <th>32047</th>\n",
       "      <td>178.0</td>\n",
       "      <td>3.5625</td>\n",
       "      <td>1.85</td>\n",
       "      <td>178.0</td>\n",
       "      <td>3.5</td>\n",
       "      <td>5.000000</td>\n",
       "      <td>0.340</td>\n",
       "      <td>0.0258</td>\n",
       "      <td>328</td>\n",
       "      <td>1.09</td>\n",
       "      <td>...</td>\n",
       "      <td>31.65</td>\n",
       "      <td>5.0</td>\n",
       "      <td>0.244</td>\n",
       "      <td>2.770000e-19</td>\n",
       "      <td>328</td>\n",
       "      <td>0.0</td>\n",
       "      <td>-2.580000e-06</td>\n",
       "      <td>17.0</td>\n",
       "      <td>20</td>\n",
       "      <td>0</td>\n",
       "    </tr>\n",
       "  </tbody>\n",
       "</table>\n",
       "<p>32048 rows × 46 columns</p>\n",
       "</div>"
      ],
      "text/plain": [
       "       X_ActualPosition  X_ActualVelocity  X_ActualAcceleration   \n",
       "0                 202.0            4.0000                  4.00  \\\n",
       "1                 202.0           -6.8000               -346.00   \n",
       "2                 200.0          -13.8000                 -2.25   \n",
       "3                 198.0          -14.0000                  4.00   \n",
       "4                 197.0          -13.9000                -14.80   \n",
       "...                 ...               ...                   ...   \n",
       "32043             179.0            3.5625                  8.15   \n",
       "32044             178.5            3.5350                 30.00   \n",
       "32045             178.5            3.5475                 17.50   \n",
       "32046             178.5            3.4475                 11.25   \n",
       "32047             178.0            3.5625                  1.85   \n",
       "\n",
       "       X_SetPosition  X_SetVelocity  X_SetAcceleration  X_CurrentFeedback   \n",
       "0              202.0            4.0           4.000000              0.180  \\\n",
       "1              202.0           -9.6        -354.000000            -10.900   \n",
       "2              200.0          -13.9           3.999905             -8.590   \n",
       "3              198.0          -13.9           3.999905             -6.110   \n",
       "4              196.0          -13.9           4.000095             -5.700   \n",
       "...              ...            ...                ...                ...   \n",
       "32043          179.0            3.5           5.000000             -0.941   \n",
       "32044          178.5            3.5           5.000000             -0.780   \n",
       "32045          178.5            3.5           5.000000              0.501   \n",
       "32046          178.5            3.5           5.000000             -0.298   \n",
       "32047          178.0            3.5           5.000000              0.340   \n",
       "\n",
       "       X_DCBusVoltage  X_OutputCurrent  X_OutputVoltage  ...  S_SetVelocity   \n",
       "0              0.0207              329             2.77  ...           4.00  \\\n",
       "1              0.1860              328            23.30  ...           4.00   \n",
       "2              0.1400              328            30.60  ...           4.00   \n",
       "3              0.1300              327            30.30  ...           4.00   \n",
       "4              0.1140              328            30.50  ...           4.00   \n",
       "...               ...              ...              ...  ...            ...   \n",
       "32043          0.0215              328             1.79  ...          31.65   \n",
       "32044          0.0202              328             1.07  ...          31.65   \n",
       "32045          0.0190              328             0.99  ...          31.65   \n",
       "32046          0.0193              328             1.37  ...          31.65   \n",
       "32047          0.0258              328             1.09  ...          31.65   \n",
       "\n",
       "       S_SetAcceleration  S_CurrentFeedback  S_DCBusVoltage  S_OutputCurrent   \n",
       "0                    4.0              0.524    2.740000e-19              329  \\\n",
       "1                    4.0             -0.288    2.740000e-19              328   \n",
       "2                    4.0              0.524    2.740000e-19              328   \n",
       "3                    4.0             -0.180    2.740000e-19              328   \n",
       "4                    4.0              0.226    2.740000e-19              328   \n",
       "...                  ...                ...             ...              ...   \n",
       "32043                5.0              0.244    2.770000e-19              328   \n",
       "32044                5.0              0.244    2.770000e-19              328   \n",
       "32045                5.0              0.128    2.770000e-19              328   \n",
       "32046                5.0              0.657    2.770000e-19              328   \n",
       "32047                5.0              0.244    2.770000e-19              328   \n",
       "\n",
       "       S_OutputVoltage  S_OutputPower  S_SystemInertia  M_CURRENT_FEEDRATE   \n",
       "0                  0.0   6.960000e-07             16.0                  50  \\\n",
       "1                  0.0  -5.270000e-07             16.0                  50   \n",
       "2                  0.0   9.100000e-07             16.0                  50   \n",
       "3                  0.0   1.070000e-06             16.0                  50   \n",
       "4                  0.0   1.960000e-06             16.0                  50   \n",
       "...                ...            ...              ...                 ...   \n",
       "32043              0.0  -3.020000e-06             17.0                  20   \n",
       "32044              0.0   0.000000e+00             17.0                  20   \n",
       "32045              0.0   0.000000e+00             17.0                  20   \n",
       "32046              0.0  -7.980000e-06             17.0                  20   \n",
       "32047              0.0  -2.580000e-06             17.0                  20   \n",
       "\n",
       "       error  \n",
       "0          0  \n",
       "1          0  \n",
       "2          0  \n",
       "3          0  \n",
       "4          0  \n",
       "...      ...  \n",
       "32043      0  \n",
       "32044      0  \n",
       "32045      0  \n",
       "32046      0  \n",
       "32047      0  \n",
       "\n",
       "[32048 rows x 46 columns]"
      ]
     },
     "execution_count": 4,
     "metadata": {},
     "output_type": "execute_result"
    }
   ],
   "source": [
    "data"
   ]
  },
  {
   "cell_type": "code",
   "execution_count": 5,
   "id": "25eff0a5",
   "metadata": {},
   "outputs": [],
   "source": [
    "### 상관계수"
   ]
  },
  {
   "cell_type": "code",
   "execution_count": 6,
   "id": "c4e2f23c",
   "metadata": {},
   "outputs": [
    {
     "ename": "KeyError",
     "evalue": "\"['M_CURRENT_PROGRAM_NUMBER', 'M_sequence_number', 'Machining_Process', 'tool_condition'] not found in axis\"",
     "output_type": "error",
     "traceback": [
      "\u001b[1;31m---------------------------------------------------------------------------\u001b[0m",
      "\u001b[1;31mKeyError\u001b[0m                                  Traceback (most recent call last)",
      "Cell \u001b[1;32mIn[6], line 1\u001b[0m\n\u001b[1;32m----> 1\u001b[0m data_numeric\u001b[38;5;241m=\u001b[39m\u001b[43mdata\u001b[49m\u001b[38;5;241;43m.\u001b[39;49m\u001b[43mdrop\u001b[49m\u001b[43m(\u001b[49m\u001b[43mcolumns\u001b[49m\u001b[38;5;241;43m=\u001b[39;49m\u001b[43m[\u001b[49m\u001b[38;5;124;43m'\u001b[39;49m\u001b[38;5;124;43mM_CURRENT_PROGRAM_NUMBER\u001b[39;49m\u001b[38;5;124;43m'\u001b[39;49m\u001b[43m,\u001b[49m\u001b[43m \u001b[49m\u001b[38;5;124;43m'\u001b[39;49m\u001b[38;5;124;43mM_sequence_number\u001b[39;49m\u001b[38;5;124;43m'\u001b[39;49m\u001b[43m,\u001b[49m\u001b[43m \u001b[49m\u001b[38;5;124;43m'\u001b[39;49m\u001b[38;5;124;43mMachining_Process\u001b[39;49m\u001b[38;5;124;43m'\u001b[39;49m\u001b[43m,\u001b[49m\u001b[43m \u001b[49m\u001b[38;5;124;43m'\u001b[39;49m\u001b[38;5;124;43mtool_condition\u001b[39;49m\u001b[38;5;124;43m'\u001b[39;49m\u001b[43m]\u001b[49m\u001b[43m)\u001b[49m\n",
      "File \u001b[1;32m~\\anaconda3\\envs\\univ\\lib\\site-packages\\pandas\\core\\frame.py:5268\u001b[0m, in \u001b[0;36mDataFrame.drop\u001b[1;34m(self, labels, axis, index, columns, level, inplace, errors)\u001b[0m\n\u001b[0;32m   5120\u001b[0m \u001b[38;5;28;01mdef\u001b[39;00m \u001b[38;5;21mdrop\u001b[39m(\n\u001b[0;32m   5121\u001b[0m     \u001b[38;5;28mself\u001b[39m,\n\u001b[0;32m   5122\u001b[0m     labels: IndexLabel \u001b[38;5;241m=\u001b[39m \u001b[38;5;28;01mNone\u001b[39;00m,\n\u001b[1;32m   (...)\u001b[0m\n\u001b[0;32m   5129\u001b[0m     errors: IgnoreRaise \u001b[38;5;241m=\u001b[39m \u001b[38;5;124m\"\u001b[39m\u001b[38;5;124mraise\u001b[39m\u001b[38;5;124m\"\u001b[39m,\n\u001b[0;32m   5130\u001b[0m ) \u001b[38;5;241m-\u001b[39m\u001b[38;5;241m>\u001b[39m DataFrame \u001b[38;5;241m|\u001b[39m \u001b[38;5;28;01mNone\u001b[39;00m:\n\u001b[0;32m   5131\u001b[0m \u001b[38;5;250m    \u001b[39m\u001b[38;5;124;03m\"\"\"\u001b[39;00m\n\u001b[0;32m   5132\u001b[0m \u001b[38;5;124;03m    Drop specified labels from rows or columns.\u001b[39;00m\n\u001b[0;32m   5133\u001b[0m \n\u001b[1;32m   (...)\u001b[0m\n\u001b[0;32m   5266\u001b[0m \u001b[38;5;124;03m            weight  1.0     0.8\u001b[39;00m\n\u001b[0;32m   5267\u001b[0m \u001b[38;5;124;03m    \"\"\"\u001b[39;00m\n\u001b[1;32m-> 5268\u001b[0m     \u001b[38;5;28;01mreturn\u001b[39;00m \u001b[38;5;28;43msuper\u001b[39;49m\u001b[43m(\u001b[49m\u001b[43m)\u001b[49m\u001b[38;5;241;43m.\u001b[39;49m\u001b[43mdrop\u001b[49m\u001b[43m(\u001b[49m\n\u001b[0;32m   5269\u001b[0m \u001b[43m        \u001b[49m\u001b[43mlabels\u001b[49m\u001b[38;5;241;43m=\u001b[39;49m\u001b[43mlabels\u001b[49m\u001b[43m,\u001b[49m\n\u001b[0;32m   5270\u001b[0m \u001b[43m        \u001b[49m\u001b[43maxis\u001b[49m\u001b[38;5;241;43m=\u001b[39;49m\u001b[43maxis\u001b[49m\u001b[43m,\u001b[49m\n\u001b[0;32m   5271\u001b[0m \u001b[43m        \u001b[49m\u001b[43mindex\u001b[49m\u001b[38;5;241;43m=\u001b[39;49m\u001b[43mindex\u001b[49m\u001b[43m,\u001b[49m\n\u001b[0;32m   5272\u001b[0m \u001b[43m        \u001b[49m\u001b[43mcolumns\u001b[49m\u001b[38;5;241;43m=\u001b[39;49m\u001b[43mcolumns\u001b[49m\u001b[43m,\u001b[49m\n\u001b[0;32m   5273\u001b[0m \u001b[43m        \u001b[49m\u001b[43mlevel\u001b[49m\u001b[38;5;241;43m=\u001b[39;49m\u001b[43mlevel\u001b[49m\u001b[43m,\u001b[49m\n\u001b[0;32m   5274\u001b[0m \u001b[43m        \u001b[49m\u001b[43minplace\u001b[49m\u001b[38;5;241;43m=\u001b[39;49m\u001b[43minplace\u001b[49m\u001b[43m,\u001b[49m\n\u001b[0;32m   5275\u001b[0m \u001b[43m        \u001b[49m\u001b[43merrors\u001b[49m\u001b[38;5;241;43m=\u001b[39;49m\u001b[43merrors\u001b[49m\u001b[43m,\u001b[49m\n\u001b[0;32m   5276\u001b[0m \u001b[43m    \u001b[49m\u001b[43m)\u001b[49m\n",
      "File \u001b[1;32m~\\anaconda3\\envs\\univ\\lib\\site-packages\\pandas\\core\\generic.py:4549\u001b[0m, in \u001b[0;36mNDFrame.drop\u001b[1;34m(self, labels, axis, index, columns, level, inplace, errors)\u001b[0m\n\u001b[0;32m   4547\u001b[0m \u001b[38;5;28;01mfor\u001b[39;00m axis, labels \u001b[38;5;129;01min\u001b[39;00m axes\u001b[38;5;241m.\u001b[39mitems():\n\u001b[0;32m   4548\u001b[0m     \u001b[38;5;28;01mif\u001b[39;00m labels \u001b[38;5;129;01mis\u001b[39;00m \u001b[38;5;129;01mnot\u001b[39;00m \u001b[38;5;28;01mNone\u001b[39;00m:\n\u001b[1;32m-> 4549\u001b[0m         obj \u001b[38;5;241m=\u001b[39m \u001b[43mobj\u001b[49m\u001b[38;5;241;43m.\u001b[39;49m\u001b[43m_drop_axis\u001b[49m\u001b[43m(\u001b[49m\u001b[43mlabels\u001b[49m\u001b[43m,\u001b[49m\u001b[43m \u001b[49m\u001b[43maxis\u001b[49m\u001b[43m,\u001b[49m\u001b[43m \u001b[49m\u001b[43mlevel\u001b[49m\u001b[38;5;241;43m=\u001b[39;49m\u001b[43mlevel\u001b[49m\u001b[43m,\u001b[49m\u001b[43m \u001b[49m\u001b[43merrors\u001b[49m\u001b[38;5;241;43m=\u001b[39;49m\u001b[43merrors\u001b[49m\u001b[43m)\u001b[49m\n\u001b[0;32m   4551\u001b[0m \u001b[38;5;28;01mif\u001b[39;00m inplace:\n\u001b[0;32m   4552\u001b[0m     \u001b[38;5;28mself\u001b[39m\u001b[38;5;241m.\u001b[39m_update_inplace(obj)\n",
      "File \u001b[1;32m~\\anaconda3\\envs\\univ\\lib\\site-packages\\pandas\\core\\generic.py:4591\u001b[0m, in \u001b[0;36mNDFrame._drop_axis\u001b[1;34m(self, labels, axis, level, errors, only_slice)\u001b[0m\n\u001b[0;32m   4589\u001b[0m         new_axis \u001b[38;5;241m=\u001b[39m axis\u001b[38;5;241m.\u001b[39mdrop(labels, level\u001b[38;5;241m=\u001b[39mlevel, errors\u001b[38;5;241m=\u001b[39merrors)\n\u001b[0;32m   4590\u001b[0m     \u001b[38;5;28;01melse\u001b[39;00m:\n\u001b[1;32m-> 4591\u001b[0m         new_axis \u001b[38;5;241m=\u001b[39m \u001b[43maxis\u001b[49m\u001b[38;5;241;43m.\u001b[39;49m\u001b[43mdrop\u001b[49m\u001b[43m(\u001b[49m\u001b[43mlabels\u001b[49m\u001b[43m,\u001b[49m\u001b[43m \u001b[49m\u001b[43merrors\u001b[49m\u001b[38;5;241;43m=\u001b[39;49m\u001b[43merrors\u001b[49m\u001b[43m)\u001b[49m\n\u001b[0;32m   4592\u001b[0m     indexer \u001b[38;5;241m=\u001b[39m axis\u001b[38;5;241m.\u001b[39mget_indexer(new_axis)\n\u001b[0;32m   4594\u001b[0m \u001b[38;5;66;03m# Case for non-unique axis\u001b[39;00m\n\u001b[0;32m   4595\u001b[0m \u001b[38;5;28;01melse\u001b[39;00m:\n",
      "File \u001b[1;32m~\\anaconda3\\envs\\univ\\lib\\site-packages\\pandas\\core\\indexes\\base.py:6696\u001b[0m, in \u001b[0;36mIndex.drop\u001b[1;34m(self, labels, errors)\u001b[0m\n\u001b[0;32m   6694\u001b[0m \u001b[38;5;28;01mif\u001b[39;00m mask\u001b[38;5;241m.\u001b[39many():\n\u001b[0;32m   6695\u001b[0m     \u001b[38;5;28;01mif\u001b[39;00m errors \u001b[38;5;241m!=\u001b[39m \u001b[38;5;124m\"\u001b[39m\u001b[38;5;124mignore\u001b[39m\u001b[38;5;124m\"\u001b[39m:\n\u001b[1;32m-> 6696\u001b[0m         \u001b[38;5;28;01mraise\u001b[39;00m \u001b[38;5;167;01mKeyError\u001b[39;00m(\u001b[38;5;124mf\u001b[39m\u001b[38;5;124m\"\u001b[39m\u001b[38;5;132;01m{\u001b[39;00m\u001b[38;5;28mlist\u001b[39m(labels[mask])\u001b[38;5;132;01m}\u001b[39;00m\u001b[38;5;124m not found in axis\u001b[39m\u001b[38;5;124m\"\u001b[39m)\n\u001b[0;32m   6697\u001b[0m     indexer \u001b[38;5;241m=\u001b[39m indexer[\u001b[38;5;241m~\u001b[39mmask]\n\u001b[0;32m   6698\u001b[0m \u001b[38;5;28;01mreturn\u001b[39;00m \u001b[38;5;28mself\u001b[39m\u001b[38;5;241m.\u001b[39mdelete(indexer)\n",
      "\u001b[1;31mKeyError\u001b[0m: \"['M_CURRENT_PROGRAM_NUMBER', 'M_sequence_number', 'Machining_Process', 'tool_condition'] not found in axis\""
     ]
    }
   ],
   "source": [
    "data_numeric=data.drop(columns=['M_CURRENT_PROGRAM_NUMBER', 'M_sequence_number', 'Machining_Process', 'tool_condition'])\n"
   ]
  },
  {
   "cell_type": "code",
   "execution_count": 8,
   "id": "d216ceb0",
   "metadata": {
    "scrolled": true
   },
   "outputs": [
    {
     "name": "stdout",
     "output_type": "stream",
     "text": [
      "<class 'pandas.core.frame.DataFrame'>\n",
      "RangeIndex: 32048 entries, 0 to 32047\n",
      "Data columns (total 46 columns):\n",
      " #   Column                Non-Null Count  Dtype  \n",
      "---  ------                --------------  -----  \n",
      " 0   X_ActualPosition      32048 non-null  float64\n",
      " 1   X_ActualVelocity      32048 non-null  float64\n",
      " 2   X_ActualAcceleration  32048 non-null  float64\n",
      " 3   X_SetPosition         32048 non-null  float64\n",
      " 4   X_SetVelocity         32048 non-null  float64\n",
      " 5   X_SetAcceleration     32048 non-null  float64\n",
      " 6   X_CurrentFeedback     32048 non-null  float64\n",
      " 7   X_DCBusVoltage        32048 non-null  float64\n",
      " 8   X_OutputCurrent       32048 non-null  int64  \n",
      " 9   X_OutputVoltage       32048 non-null  float64\n",
      " 10  X_OutputPower         32048 non-null  float64\n",
      " 11  Y_ActualPosition      32048 non-null  float64\n",
      " 12  Y_ActualVelocity      32048 non-null  float64\n",
      " 13  Y_ActualAcceleration  32048 non-null  float64\n",
      " 14  Y_SetPosition         32048 non-null  float64\n",
      " 15  Y_SetVelocity         32048 non-null  float64\n",
      " 16  Y_SetAcceleration     32048 non-null  float64\n",
      " 17  Y_CurrentFeedback     32048 non-null  float64\n",
      " 18  Y_DCBusVoltage        32048 non-null  float64\n",
      " 19  Y_OutputCurrent       32048 non-null  int64  \n",
      " 20  Y_OutputVoltage       32048 non-null  float64\n",
      " 21  Y_OutputPower         32048 non-null  float64\n",
      " 22  Z_ActualPosition      32048 non-null  float64\n",
      " 23  Z_ActualVelocity      32048 non-null  float64\n",
      " 24  Z_ActualAcceleration  32048 non-null  float64\n",
      " 25  Z_SetPosition         32048 non-null  float64\n",
      " 26  Z_SetVelocity         32048 non-null  float64\n",
      " 27  Z_SetAcceleration     32048 non-null  float64\n",
      " 28  Z_CurrentFeedback     32048 non-null  int64  \n",
      " 29  Z_DCBusVoltage        32048 non-null  int64  \n",
      " 30  Z_OutputCurrent       32048 non-null  int64  \n",
      " 31  Z_OutputVoltage       32048 non-null  int64  \n",
      " 32  S_ActualPosition      32048 non-null  float64\n",
      " 33  S_ActualVelocity      32048 non-null  float64\n",
      " 34  S_ActualAcceleration  32048 non-null  float64\n",
      " 35  S_SetPosition         32048 non-null  float64\n",
      " 36  S_SetVelocity         32048 non-null  float64\n",
      " 37  S_SetAcceleration     32048 non-null  float64\n",
      " 38  S_CurrentFeedback     32048 non-null  float64\n",
      " 39  S_DCBusVoltage        32048 non-null  float64\n",
      " 40  S_OutputCurrent       32048 non-null  int64  \n",
      " 41  S_OutputVoltage       32048 non-null  float64\n",
      " 42  S_OutputPower         32048 non-null  float64\n",
      " 43  S_SystemInertia       32048 non-null  float64\n",
      " 44  M_CURRENT_FEEDRATE    32048 non-null  int64  \n",
      " 45  error                 32048 non-null  int64  \n",
      "dtypes: float64(37), int64(9)\n",
      "memory usage: 11.2 MB\n"
     ]
    }
   ],
   "source": [
    "data.info()"
   ]
  },
  {
   "cell_type": "code",
   "execution_count": 10,
   "id": "c7fd31bf",
   "metadata": {},
   "outputs": [],
   "source": [
    "# 독립 변수와 종속 변수 분리\n",
    "X = data[['X_ActualPosition', 'X_ActualVelocity', 'X_ActualAcceleration', 'X_SetPosition',\n",
    "          'X_SetVelocity', 'X_SetAcceleration', 'X_CurrentFeedback', 'X_DCBusVoltage',\n",
    "          'X_OutputCurrent', 'X_OutputVoltage', 'S_OutputCurrent', 'S_OutputVoltage',\n",
    "          'S_OutputPower', 'S_SystemInertia','M_CURRENT_FEEDRATE']]\n",
    "y = data['error']\n"
   ]
  },
  {
   "cell_type": "code",
   "execution_count": 9,
   "id": "edf01b93",
   "metadata": {
    "scrolled": false
   },
   "outputs": [
    {
     "ename": "NameError",
     "evalue": "name 'plt' is not defined",
     "output_type": "error",
     "traceback": [
      "\u001b[1;31m---------------------------------------------------------------------------\u001b[0m",
      "\u001b[1;31mNameError\u001b[0m                                 Traceback (most recent call last)",
      "Cell \u001b[1;32mIn[9], line 1\u001b[0m\n\u001b[1;32m----> 1\u001b[0m \u001b[43mplt\u001b[49m\u001b[38;5;241m.\u001b[39mfigure(figsize\u001b[38;5;241m=\u001b[39m(\u001b[38;5;241m18\u001b[39m, \u001b[38;5;241m14\u001b[39m))\n\u001b[0;32m      2\u001b[0m sns\u001b[38;5;241m.\u001b[39mheatmap(data_numeric\u001b[38;5;241m.\u001b[39mcorr(), cmap\u001b[38;5;241m=\u001b[39m\u001b[38;5;124m'\u001b[39m\u001b[38;5;124mcoolwarm\u001b[39m\u001b[38;5;124m'\u001b[39m, annot\u001b[38;5;241m=\u001b[39m\u001b[38;5;28;01mTrue\u001b[39;00m)\n",
      "\u001b[1;31mNameError\u001b[0m: name 'plt' is not defined"
     ]
    }
   ],
   "source": [
    "plt.figure(figsize=(18, 14))\n",
    "sns.heatmap(data_numeric.corr(), cmap='coolwarm', annot=True)"
   ]
  },
  {
   "cell_type": "code",
   "execution_count": 11,
   "id": "43dd2721",
   "metadata": {},
   "outputs": [],
   "source": [
    "#데이터셋 분리\n",
    "X_train, X_test, y_train, y_test = train_test_split(X, y, test_size=0.2, random_state=42)\n"
   ]
  },
  {
   "cell_type": "code",
   "execution_count": 12,
   "id": "bbe89529",
   "metadata": {},
   "outputs": [],
   "source": [
    "#깊이 지정하기위해 k폴드 max_depth"
   ]
  },
  {
   "cell_type": "code",
   "execution_count": 14,
   "id": "d4984ef3",
   "metadata": {},
   "outputs": [
    {
     "name": "stderr",
     "output_type": "stream",
     "text": [
      "\n",
      "KeyboardInterrupt\n",
      "\n"
     ]
    }
   ],
   "source": [
    "from sklearn.model_selection import KFold\n",
    "\n",
    "cv = KFold(n_splits=5)            # Desired number of Cross Validation folds  #n_splits값이 클수록 오래걸림\n",
    "accuracies = list()\n",
    "max_attributes = X_test.shape[1]\n",
    "depth_range = range(1, max_attributes)\n",
    "for depth in depth_range:\n",
    "    fold_accuracy = []\n",
    "    rand_clf = RandomForestClassifier(max_depth = depth)\n",
    "    # print(\"Current max depth: \", depth, \"\\n\")\n",
    "    for train_fold, valid_fold in cv.split(X):\n",
    "        X_train = X.iloc[train_fold]\n",
    "        y_train = y.iloc[train_fold]\n",
    "        X_valid = X.iloc[valid_fold]\n",
    "        y_valid = y.iloc[valid_fold]\n",
    "        \n",
    "        model = rand_clf.fit(X_train, y_train)\n",
    "        valid_acc = model.score(X_valid, y_valid)\n",
    "        fold_accuracy.append(valid_acc)\n",
    "    avg = sum(fold_accuracy)/len(fold_accuracy)\n",
    "    accuracies.append(avg)\n",
    "    # print(\"Accuracy per fold: \", fold_accuracy, \"\\n\")\n",
    "    # print(\"Average accuracy: \", avg)\n",
    "    # print(\"\\n\")\n",
    "    \n",
    "# Just to show results conveniently\n",
    "df = pd.DataFrame({\"Max Depth\": depth_range, \"Average Accuracy\": accuracies})\n",
    "df = df[[\"Max Depth\", \"Average Accuracy\"]]\n",
    "print(df.to_string(index=False))"
   ]
  },
  {
   "cell_type": "code",
   "execution_count": 15,
   "id": "7d3fdebe",
   "metadata": {},
   "outputs": [
    {
     "ename": "TypeError",
     "evalue": "BaseForest.fit() got an unexpected keyword argument 'validation_data'",
     "output_type": "error",
     "traceback": [
      "\u001b[1;31m---------------------------------------------------------------------------\u001b[0m",
      "\u001b[1;31mTypeError\u001b[0m                                 Traceback (most recent call last)",
      "Cell \u001b[1;32mIn[15], line 3\u001b[0m\n\u001b[0;32m      1\u001b[0m rand_clf \u001b[38;5;241m=\u001b[39m RandomForestClassifier(criterion\u001b[38;5;241m=\u001b[39m\u001b[38;5;124m'\u001b[39m\u001b[38;5;124mentropy\u001b[39m\u001b[38;5;124m'\u001b[39m, bootstrap\u001b[38;5;241m=\u001b[39m\u001b[38;5;28;01mTrue\u001b[39;00m, random_state\u001b[38;5;241m=\u001b[39m\u001b[38;5;241m42\u001b[39m, max_depth\u001b[38;5;241m=\u001b[39m\u001b[38;5;241m8\u001b[39m)\n\u001b[1;32m----> 3\u001b[0m \u001b[43mrand_clf\u001b[49m\u001b[38;5;241;43m.\u001b[39;49m\u001b[43mfit\u001b[49m\u001b[43m(\u001b[49m\u001b[43mX_train\u001b[49m\u001b[43m,\u001b[49m\u001b[43m \u001b[49m\u001b[43my_train\u001b[49m\u001b[43m,\u001b[49m\u001b[43m \u001b[49m\u001b[43mvalidation_data\u001b[49m\u001b[43m \u001b[49m\u001b[38;5;241;43m=\u001b[39;49m\u001b[43m \u001b[49m\u001b[43m(\u001b[49m\u001b[43mX_valid\u001b[49m\u001b[43m,\u001b[49m\u001b[43m \u001b[49m\u001b[43my_valid\u001b[49m\u001b[43m)\u001b[49m\u001b[43m)\u001b[49m\n\u001b[0;32m      4\u001b[0m y_pred \u001b[38;5;241m=\u001b[39m rand_clf\u001b[38;5;241m.\u001b[39mpredict(X_test)\n\u001b[0;32m      6\u001b[0m \u001b[38;5;28mprint\u001b[39m(\u001b[38;5;124m'\u001b[39m\u001b[38;5;124m훈련세트 정확도: \u001b[39m\u001b[38;5;132;01m{:.3f}\u001b[39;00m\u001b[38;5;124m'\u001b[39m \u001b[38;5;241m.\u001b[39mformat(rand_clf\u001b[38;5;241m.\u001b[39mscore(X_train, y_train)))\n",
      "\u001b[1;31mTypeError\u001b[0m: BaseForest.fit() got an unexpected keyword argument 'validation_data'"
     ]
    }
   ],
   "source": [
    "rand_clf = RandomForestClassifier(criterion='entropy', bootstrap=True, random_state=42, max_depth=8)\n",
    "\n",
    "rand_clf.fit(X_train, y_train, validation_data = (X_valid, y_valid))\n",
    "y_pred = rand_clf.predict(X_test)\n",
    "\n",
    "print('훈련세트 정확도: {:.3f}' .format(rand_clf.score(X_train, y_train)))\n",
    "print('테스트세트 정확도: {:.3f}' .format(rand_clf.score(X_test, y_test)))\n",
    "\n"
   ]
  },
  {
   "cell_type": "code",
   "execution_count": 68,
   "id": "86f69948",
   "metadata": {
    "scrolled": true
   },
   "outputs": [
    {
     "name": "stdout",
     "output_type": "stream",
     "text": [
      "[[4303  242]\n",
      " [ 355 1510]]\n",
      "              precision    recall  f1-score   support\n",
      "\n",
      "           0       0.92      0.95      0.94      4545\n",
      "           1       0.86      0.81      0.83      1865\n",
      "\n",
      "    accuracy                           0.91      6410\n",
      "   macro avg       0.89      0.88      0.89      6410\n",
      "weighted avg       0.91      0.91      0.91      6410\n",
      "\n"
     ]
    }
   ],
   "source": [
    "\n",
    "print(confusion_matrix(y_test, y_pred))\n",
    "print(classification_report(y_test, y_pred))"
   ]
  },
  {
   "cell_type": "code",
   "execution_count": 69,
   "id": "3ebc9f27",
   "metadata": {
    "scrolled": true
   },
   "outputs": [
    {
     "name": "stdout",
     "output_type": "stream",
     "text": [
      "X_ActualPosition : 0.028\n",
      "X_ActualVelocity : 0.029\n",
      "X_ActualAcceleration : 0.006\n",
      "X_SetPosition : 0.034\n",
      "X_SetVelocity : 0.025\n",
      "X_SetAcceleration : 0.020\n",
      "X_CurrentFeedback : 0.006\n",
      "X_DCBusVoltage : 0.041\n",
      "X_OutputCurrent : 0.244\n",
      "X_OutputVoltage : 0.058\n",
      "S_OutputCurrent : 0.167\n",
      "S_OutputVoltage : 0.038\n",
      "S_OutputPower : 0.032\n",
      "S_SystemInertia : 0.042\n",
      "M_CURRENT_FEEDRATE : 0.231\n"
     ]
    },
    {
     "data": {
      "image/png": "[encoded data removed]",
      "text/plain": [
       "<Figure size 1000x600 with 1 Axes>"
      ]
     },
     "metadata": {},
     "output_type": "display_data"
    }
   ],
   "source": [
    "# feature importance 추출 \n",
    "importances = rand_clf.feature_importances_\n",
    "\n",
    "# feature별 importance 매핑\n",
    "for name, value in zip(X.columns, importances):\n",
    "    print('{0} : {1:.3f}'.format(name, value))\n",
    "\n",
    "# feature importance를 column 별로 시각화하기\n",
    "plt.figure(figsize=(10, 6))\n",
    "sns.barplot(x=importances, y=X.columns)\n",
    "plt.xlabel('Importance')\n",
    "plt.ylabel('Features')\n",
    "plt.title('Feature Importance')\n",
    "plt.show()\n"
   ]
  },
  {
   "cell_type": "markdown",
   "id": "ae9205b5",
   "metadata": {},
   "source": [
    "### 0.05 초과하는 변수"
   ]
  },
  {
   "cell_type": "code",
   "execution_count": 83,
   "id": "1534d3d8",
   "metadata": {
    "scrolled": true
   },
   "outputs": [
    {
     "name": "stdout",
     "output_type": "stream",
     "text": [
      "X_OutputCurrent : 0.244\n",
      "X_OutputVoltage : 0.058\n",
      "S_OutputCurrent : 0.167\n",
      "M_CURRENT_FEEDRATE : 0.231\n"
     ]
    }
   ],
   "source": [
    "# feature importance가 0.05를 초과하는 변수 출력\n",
    "for name, value in zip(X.columns, importances):\n",
    "    if value > 0.05:\n",
    "        print('{0} : {1:.3f}'.format(name, value))"
   ]
  },
  {
   "cell_type": "code",
   "execution_count": 85,
   "id": "1675432d",
   "metadata": {},
   "outputs": [],
   "source": [
    "# 독립 변수와 종속 변수 분리\n",
    "X = data[['X_DCBusVoltage','X_OutputCurrent', 'X_OutputVoltage', 'S_OutputCurrent', 'M_CURRENT_FEEDRATE']]\n",
    "y = data['error']\n"
   ]
  },
  {
   "cell_type": "code",
   "execution_count": 86,
   "id": "536c8502",
   "metadata": {},
   "outputs": [],
   "source": [
    "X_train, X_test, y_train, y_test = train_test_split(X, y, test_size=0.2, random_state=42)\n"
   ]
  },
  {
   "cell_type": "code",
   "execution_count": 87,
   "id": "80be7acc",
   "metadata": {
    "scrolled": false
   },
   "outputs": [
    {
     "name": "stdout",
     "output_type": "stream",
     "text": [
      " Max Depth  Average Accuracy\n",
      "         1          0.679014\n",
      "         2          0.700794\n",
      "         3          0.793713\n",
      "         4          0.801513\n"
     ]
    }
   ],
   "source": [
    "\n",
    "cv = KFold(n_splits=5)            # Desired number of Cross Validation folds  #n_splits값이 클수록 오래걸림\n",
    "accuracies = list()\n",
    "max_attributes = X_test.shape[1]\n",
    "depth_range = range(1, max_attributes)\n",
    "for depth in depth_range:\n",
    "    fold_accuracy = []\n",
    "    rand_clf = RandomForestClassifier(max_depth = depth)\n",
    "    # print(\"Current max depth: \", depth, \"\\n\")\n",
    "    for train_fold, valid_fold in cv.split(X):\n",
    "        X_train = X.iloc[train_fold]\n",
    "        y_train = y.iloc[train_fold]\n",
    "        X_valid = X.iloc[valid_fold]\n",
    "        y_valid = y.iloc[valid_fold]\n",
    "        \n",
    "        model = rand_clf.fit(X_train, y_train)\n",
    "        valid_acc = model.score(X_valid, y_valid)\n",
    "        fold_accuracy.append(valid_acc)\n",
    "    avg = sum(fold_accuracy)/len(fold_accuracy)\n",
    "    accuracies.append(avg)\n",
    "    # print(\"Accuracy per fold: \", fold_accuracy, \"\\n\")\n",
    "    # print(\"Average accuracy: \", avg)\n",
    "    # print(\"\\n\")\n",
    "    \n",
    "# Just to show results conveniently\n",
    "df = pd.DataFrame({\"Max Depth\": depth_range, \"Average Accuracy\": accuracies})\n",
    "df = df[[\"Max Depth\", \"Average Accuracy\"]]\n",
    "print(df.to_string(index=False))"
   ]
  },
  {
   "cell_type": "code",
   "execution_count": 88,
   "id": "2a529c31",
   "metadata": {},
   "outputs": [
    {
     "name": "stdout",
     "output_type": "stream",
     "text": [
      "훈련세트 정확도: 0.941\n",
      "테스트세트 정확도: 0.880\n"
     ]
    }
   ],
   "source": [
    "rand_clf = RandomForestClassifier(criterion='entropy', bootstrap=True, random_state=42, max_depth=4)\n",
    "\n",
    "rand_clf.fit(X_train, y_train, validation_data = (X_valid, y_valid))\n",
    "y_pred = rand_clf.predict(X_test)\n",
    "\n",
    "print('훈련세트 정확도: {:.3f}' .format(rand_clf.score(X_train, y_train)))\n",
    "print('테스트세트 정확도: {:.3f}' .format(rand_clf.score(X_test, y_test)))\n"
   ]
  },
  {
   "cell_type": "code",
   "execution_count": 89,
   "id": "6d0c6161",
   "metadata": {
    "scrolled": false
   },
   "outputs": [
    {
     "name": "stdout",
     "output_type": "stream",
     "text": [
      "[[4235  310]\n",
      " [ 458 1407]]\n",
      "              precision    recall  f1-score   support\n",
      "\n",
      "           0       0.90      0.93      0.92      4545\n",
      "           1       0.82      0.75      0.79      1865\n",
      "\n",
      "    accuracy                           0.88      6410\n",
      "   macro avg       0.86      0.84      0.85      6410\n",
      "weighted avg       0.88      0.88      0.88      6410\n",
      "\n"
     ]
    }
   ],
   "source": [
    "from sklearn.metrics import confusion_matrix, classification_report\n",
    "\n",
    "print(confusion_matrix(y_test, y_pred))\n",
    "print(classification_report(y_test, y_pred))"
   ]
  },
  {
   "cell_type": "code",
   "execution_count": 90,
   "id": "67d43d7d",
   "metadata": {
    "scrolled": true
   },
   "outputs": [
    {
     "name": "stdout",
     "output_type": "stream",
     "text": [
      "X_DCBusVoltage : 0.045\n",
      "X_OutputCurrent : 0.242\n",
      "X_OutputVoltage : 0.081\n",
      "S_OutputCurrent : 0.222\n",
      "M_CURRENT_FEEDRATE : 0.409\n"
     ]
    },
    {
     "data": {
      "image/png": "[encoded data removed]",
      "text/plain": [
       "<Figure size 1000x600 with 1 Axes>"
      ]
     },
     "metadata": {},
     "output_type": "display_data"
    }
   ],
   "source": [
    "# feature importance 추출 \n",
    "importances = rand_clf.feature_importances_\n",
    "\n",
    "# feature별 importance 매핑\n",
    "for name, value in zip(X.columns, importances):\n",
    "    print('{0} : {1:.3f}'.format(name, value))\n",
    "\n",
    "# feature importance를 column 별로 시각화하기\n",
    "plt.figure(figsize=(10, 6))\n",
    "sns.barplot(x=importances, y=X.columns)\n",
    "plt.xlabel('Importance')\n",
    "plt.ylabel('Features')\n",
    "plt.title('Feature Importance')\n",
    "plt.show()\n"
   ]
  },
  {
   "cell_type": "code",
   "execution_count": 2,
   "id": "250d2f48",
   "metadata": {},
   "outputs": [
    {
     "name": "stdout",
     "output_type": "stream",
     "text": [
      "Collecting tqdm\n",
      "  Using cached tqdm-4.65.0-py3-none-any.whl (77 kB)\n",
      "Requirement already satisfied: colorama in c:\\users\\sun14\\anaconda3\\envs\\mos\\lib\\site-packages (from tqdm) (0.4.6)\n",
      "Installing collected packages: tqdm\n",
      "Successfully installed tqdm-4.65.0\n",
      "Note: you may need to restart the kernel to use updated packages.\n"
     ]
    }
   ],
   "source": [
    "pip install tqdm"
   ]
  },
  {
   "cell_type": "markdown",
   "id": "02a1b8a2",
   "metadata": {},
   "source": [
    "### pca데이터로 랜덤포레스트"
   ]
  },
  {
   "cell_type": "code",
   "execution_count": 6,
   "id": "16d50b32",
   "metadata": {},
   "outputs": [],
   "source": [
    "df=pd.read_csv('pca_df.csv')"
   ]
  },
  {
   "cell_type": "code",
   "execution_count": 7,
   "id": "349bb131",
   "metadata": {
    "scrolled": true
   },
   "outputs": [
    {
     "data": {
      "text/html": [
       "<div>\n",
       "<style scoped>\n",
       "    .dataframe tbody tr th:only-of-type {\n",
       "        vertical-align: middle;\n",
       "    }\n",
       "\n",
       "    .dataframe tbody tr th {\n",
       "        vertical-align: top;\n",
       "    }\n",
       "\n",
       "    .dataframe thead th {\n",
       "        text-align: right;\n",
       "    }\n",
       "</style>\n",
       "<table border=\"1\" class=\"dataframe\">\n",
       "  <thead>\n",
       "    <tr style=\"text-align: right;\">\n",
       "      <th></th>\n",
       "      <th>pca1</th>\n",
       "      <th>pca2</th>\n",
       "      <th>pca3</th>\n",
       "      <th>pca4</th>\n",
       "      <th>pca5</th>\n",
       "      <th>pca6</th>\n",
       "      <th>pca7</th>\n",
       "      <th>pca8</th>\n",
       "      <th>pca9</th>\n",
       "      <th>pca10</th>\n",
       "      <th>error</th>\n",
       "    </tr>\n",
       "  </thead>\n",
       "  <tbody>\n",
       "    <tr>\n",
       "      <th>0</th>\n",
       "      <td>-6.920456</td>\n",
       "      <td>-0.309658</td>\n",
       "      <td>0.620367</td>\n",
       "      <td>-0.173396</td>\n",
       "      <td>-0.049644</td>\n",
       "      <td>-0.827059</td>\n",
       "      <td>-0.755742</td>\n",
       "      <td>-0.183551</td>\n",
       "      <td>-0.068302</td>\n",
       "      <td>0.028770</td>\n",
       "      <td>0</td>\n",
       "    </tr>\n",
       "    <tr>\n",
       "      <th>1</th>\n",
       "      <td>-4.784892</td>\n",
       "      <td>12.362205</td>\n",
       "      <td>-0.183452</td>\n",
       "      <td>-3.429405</td>\n",
       "      <td>-4.419887</td>\n",
       "      <td>-12.117577</td>\n",
       "      <td>11.793680</td>\n",
       "      <td>-2.896433</td>\n",
       "      <td>3.263805</td>\n",
       "      <td>-9.406541</td>\n",
       "      <td>0</td>\n",
       "    </tr>\n",
       "    <tr>\n",
       "      <th>2</th>\n",
       "      <td>-5.282790</td>\n",
       "      <td>13.396145</td>\n",
       "      <td>-1.747857</td>\n",
       "      <td>-0.250443</td>\n",
       "      <td>0.295654</td>\n",
       "      <td>-0.676489</td>\n",
       "      <td>-1.421421</td>\n",
       "      <td>-0.213414</td>\n",
       "      <td>0.038470</td>\n",
       "      <td>0.192557</td>\n",
       "      <td>0</td>\n",
       "    </tr>\n",
       "    <tr>\n",
       "      <th>3</th>\n",
       "      <td>-4.853765</td>\n",
       "      <td>13.562956</td>\n",
       "      <td>-1.445533</td>\n",
       "      <td>-0.543810</td>\n",
       "      <td>0.085093</td>\n",
       "      <td>-1.036796</td>\n",
       "      <td>-1.114068</td>\n",
       "      <td>-0.478896</td>\n",
       "      <td>0.068354</td>\n",
       "      <td>-0.079012</td>\n",
       "      <td>0</td>\n",
       "    </tr>\n",
       "    <tr>\n",
       "      <th>4</th>\n",
       "      <td>-4.863956</td>\n",
       "      <td>14.065081</td>\n",
       "      <td>-1.475919</td>\n",
       "      <td>-0.531293</td>\n",
       "      <td>0.382954</td>\n",
       "      <td>-0.455945</td>\n",
       "      <td>-1.290346</td>\n",
       "      <td>1.001518</td>\n",
       "      <td>-0.026901</td>\n",
       "      <td>0.237202</td>\n",
       "      <td>0</td>\n",
       "    </tr>\n",
       "    <tr>\n",
       "      <th>...</th>\n",
       "      <td>...</td>\n",
       "      <td>...</td>\n",
       "      <td>...</td>\n",
       "      <td>...</td>\n",
       "      <td>...</td>\n",
       "      <td>...</td>\n",
       "      <td>...</td>\n",
       "      <td>...</td>\n",
       "      <td>...</td>\n",
       "      <td>...</td>\n",
       "      <td>...</td>\n",
       "    </tr>\n",
       "    <tr>\n",
       "      <th>32043</th>\n",
       "      <td>-3.684435</td>\n",
       "      <td>-0.846086</td>\n",
       "      <td>-0.169259</td>\n",
       "      <td>0.188257</td>\n",
       "      <td>-0.500418</td>\n",
       "      <td>0.441328</td>\n",
       "      <td>0.123264</td>\n",
       "      <td>-0.031516</td>\n",
       "      <td>0.017223</td>\n",
       "      <td>-0.230674</td>\n",
       "      <td>0</td>\n",
       "    </tr>\n",
       "    <tr>\n",
       "      <th>32044</th>\n",
       "      <td>-3.783528</td>\n",
       "      <td>-0.937225</td>\n",
       "      <td>-0.223188</td>\n",
       "      <td>0.166550</td>\n",
       "      <td>-0.471444</td>\n",
       "      <td>0.534417</td>\n",
       "      <td>0.175258</td>\n",
       "      <td>0.012478</td>\n",
       "      <td>-0.089935</td>\n",
       "      <td>-0.021230</td>\n",
       "      <td>0</td>\n",
       "    </tr>\n",
       "    <tr>\n",
       "      <th>32045</th>\n",
       "      <td>-3.789268</td>\n",
       "      <td>-0.897572</td>\n",
       "      <td>-0.105550</td>\n",
       "      <td>-0.057339</td>\n",
       "      <td>-0.465578</td>\n",
       "      <td>0.547892</td>\n",
       "      <td>0.263335</td>\n",
       "      <td>0.132281</td>\n",
       "      <td>-0.167219</td>\n",
       "      <td>-0.160122</td>\n",
       "      <td>0</td>\n",
       "    </tr>\n",
       "    <tr>\n",
       "      <th>32046</th>\n",
       "      <td>-3.655781</td>\n",
       "      <td>-0.775281</td>\n",
       "      <td>-0.104295</td>\n",
       "      <td>0.051662</td>\n",
       "      <td>-0.468386</td>\n",
       "      <td>0.487903</td>\n",
       "      <td>0.164323</td>\n",
       "      <td>0.042852</td>\n",
       "      <td>-0.107660</td>\n",
       "      <td>-0.321314</td>\n",
       "      <td>0</td>\n",
       "    </tr>\n",
       "    <tr>\n",
       "      <th>32047</th>\n",
       "      <td>-3.747137</td>\n",
       "      <td>-0.895728</td>\n",
       "      <td>-0.119586</td>\n",
       "      <td>0.013575</td>\n",
       "      <td>-0.441825</td>\n",
       "      <td>0.559503</td>\n",
       "      <td>0.251117</td>\n",
       "      <td>0.172767</td>\n",
       "      <td>-0.124811</td>\n",
       "      <td>-0.212936</td>\n",
       "      <td>0</td>\n",
       "    </tr>\n",
       "  </tbody>\n",
       "</table>\n",
       "<p>32048 rows × 11 columns</p>\n",
       "</div>"
      ],
      "text/plain": [
       "           pca1       pca2      pca3      pca4      pca5       pca6  \\\n",
       "0     -6.920456  -0.309658  0.620367 -0.173396 -0.049644  -0.827059   \n",
       "1     -4.784892  12.362205 -0.183452 -3.429405 -4.419887 -12.117577   \n",
       "2     -5.282790  13.396145 -1.747857 -0.250443  0.295654  -0.676489   \n",
       "3     -4.853765  13.562956 -1.445533 -0.543810  0.085093  -1.036796   \n",
       "4     -4.863956  14.065081 -1.475919 -0.531293  0.382954  -0.455945   \n",
       "...         ...        ...       ...       ...       ...        ...   \n",
       "32043 -3.684435  -0.846086 -0.169259  0.188257 -0.500418   0.441328   \n",
       "32044 -3.783528  -0.937225 -0.223188  0.166550 -0.471444   0.534417   \n",
       "32045 -3.789268  -0.897572 -0.105550 -0.057339 -0.465578   0.547892   \n",
       "32046 -3.655781  -0.775281 -0.104295  0.051662 -0.468386   0.487903   \n",
       "32047 -3.747137  -0.895728 -0.119586  0.013575 -0.441825   0.559503   \n",
       "\n",
       "            pca7      pca8      pca9     pca10  error  \n",
       "0      -0.755742 -0.183551 -0.068302  0.028770      0  \n",
       "1      11.793680 -2.896433  3.263805 -9.406541      0  \n",
       "2      -1.421421 -0.213414  0.038470  0.192557      0  \n",
       "3      -1.114068 -0.478896  0.068354 -0.079012      0  \n",
       "4      -1.290346  1.001518 -0.026901  0.237202      0  \n",
       "...          ...       ...       ...       ...    ...  \n",
       "32043   0.123264 -0.031516  0.017223 -0.230674      0  \n",
       "32044   0.175258  0.012478 -0.089935 -0.021230      0  \n",
       "32045   0.263335  0.132281 -0.167219 -0.160122      0  \n",
       "32046   0.164323  0.042852 -0.107660 -0.321314      0  \n",
       "32047   0.251117  0.172767 -0.124811 -0.212936      0  \n",
       "\n",
       "[32048 rows x 11 columns]"
      ]
     },
     "execution_count": 7,
     "metadata": {},
     "output_type": "execute_result"
    }
   ],
   "source": [
    "df"
   ]
  },
  {
   "cell_type": "code",
   "execution_count": 9,
   "id": "b7f9ecbb",
   "metadata": {},
   "outputs": [],
   "source": [
    "# 독립 변수와 종속 변수 분리\n",
    "X = df[['pca1','pca2','pca3','pca4','pca5','pca6','pca7','pca8','pca9','pca10']]\n",
    "y = df['error']"
   ]
  },
  {
   "cell_type": "code",
   "execution_count": 13,
   "id": "fe616a89",
   "metadata": {
    "scrolled": true
   },
   "outputs": [],
   "source": [
    "X_train, X_test, y_train, y_test = train_test_split(X, y, test_size=0.2, random_state=42)\n"
   ]
  },
  {
   "cell_type": "code",
   "execution_count": null,
   "id": "c547ace1",
   "metadata": {},
   "outputs": [],
   "source": [
    "# 여기서 제일 높은 부분부터 깊이정해지는데 9가제일높음"
   ]
  },
  {
   "cell_type": "code",
   "execution_count": 14,
   "id": "2f4b68e8",
   "metadata": {},
   "outputs": [
    {
     "name": "stdout",
     "output_type": "stream",
     "text": [
      " Max Depth  Average Accuracy\n",
      "         1          0.707095\n",
      "         2          0.719015\n",
      "         3          0.728751\n",
      "         4          0.733463\n",
      "         5          0.732277\n",
      "         6          0.741263\n",
      "         7          0.751029\n",
      "         8          0.759641\n",
      "         9          0.766724\n"
     ]
    }
   ],
   "source": [
    "\n",
    "cv = KFold(n_splits=5)            # Desired number of Cross Validation folds  #n_splits값이 클수록 오래걸림\n",
    "accuracies = list()\n",
    "max_attributes = X_test.shape[1]\n",
    "depth_range = range(1, max_attributes)\n",
    "for depth in depth_range:\n",
    "    fold_accuracy = []\n",
    "    rand_clf = RandomForestClassifier(max_depth = depth)\n",
    "    # print(\"Current max depth: \", depth, \"\\n\")\n",
    "    for train_fold, valid_fold in cv.split(X):\n",
    "        X_train = X.iloc[train_fold]\n",
    "        y_train = y.iloc[train_fold]\n",
    "        X_valid = X.iloc[valid_fold]\n",
    "        y_valid = y.iloc[valid_fold]\n",
    "        \n",
    "        model = rand_clf.fit(X_train, y_train)\n",
    "        valid_acc = model.score(X_valid, y_valid)\n",
    "        fold_accuracy.append(valid_acc)\n",
    "    avg = sum(fold_accuracy)/len(fold_accuracy)\n",
    "    accuracies.append(avg)\n",
    "    # print(\"Accuracy per fold: \", fold_accuracy, \"\\n\")\n",
    "    # print(\"Average accuracy: \", avg)\n",
    "    # print(\"\\n\")\n",
    "    \n",
    "# Just to show results conveniently\n",
    "df = pd.DataFrame({\"Max Depth\": depth_range, \"Average Accuracy\": accuracies})\n",
    "df = df[[\"Max Depth\", \"Average Accuracy\"]]\n",
    "print(df.to_string(index=False))"
   ]
  },
  {
   "cell_type": "code",
   "execution_count": null,
   "id": "ffbee99f",
   "metadata": {},
   "outputs": [],
   "source": [
    "### n_estimators 기본값 말고 해봤더니 120개가 제일 높았음"
   ]
  },
  {
   "cell_type": "code",
   "execution_count": 34,
   "id": "0f0459e2",
   "metadata": {
    "scrolled": false
   },
   "outputs": [
    {
     "name": "stdout",
     "output_type": "stream",
     "text": [
      "훈련세트 정확도: 0.975\n",
      "테스트세트 정확도: 0.915\n",
      "훈련세트 정확도: 0.976\n",
      "테스트세트 정확도: 0.917\n",
      "훈련세트 정확도: 0.976\n",
      "테스트세트 정확도: 0.915\n",
      "훈련세트 정확도: 0.976\n",
      "테스트세트 정확도: 0.913\n"
     ]
    }
   ],
   "source": [
    "for i in (110,120,130,140):\n",
    "    rand_clf = RandomForestClassifier(n_estimators = i, criterion='entropy', bootstrap=True, random_state=42, max_depth=9)\n",
    "    rand_clf.fit(X_train, y_train)\n",
    "    #relation_square = model.score(X_train, y_train)\n",
    "    #print('결정계수 : ', relation_square)\n",
    "    print('훈련세트 정확도: {:.3f}' .format(rand_clf.score(X_train, y_train)))\n",
    "    print('테스트세트 정확도: {:.3f}' .format(rand_clf.score(X_test, y_test)))\n"
   ]
  },
  {
   "cell_type": "code",
   "execution_count": null,
   "id": "1e347141",
   "metadata": {},
   "outputs": [],
   "source": [
    "#120개로진행"
   ]
  },
  {
   "cell_type": "code",
   "execution_count": 28,
   "id": "12e93c41",
   "metadata": {
    "scrolled": true
   },
   "outputs": [
    {
     "name": "stdout",
     "output_type": "stream",
     "text": [
      "훈련세트 정확도: 0.975\n",
      "테스트세트 정확도: 0.915\n"
     ]
    }
   ],
   "source": [
    "rand_clf = RandomForestClassifier(criterion='entropy',n_estimators = 120, bootstrap=True, random_state=42, max_depth=9)\n",
    "\n",
    "rand_clf.fit(X_train, y_train)\n",
    "y_pred = rand_clf.predict(X_test)\n",
    "\n",
    "print('훈련세트 정확도: {:.3f}' .format(rand_clf.score(X_train, y_train)))\n",
    "print('테스트세트 정확도: {:.3f}' .format(rand_clf.score(X_test, y_test)))\n"
   ]
  },
  {
   "cell_type": "code",
   "execution_count": 17,
   "id": "7129dd89",
   "metadata": {
    "scrolled": false
   },
   "outputs": [
    {
     "name": "stdout",
     "output_type": "stream",
     "text": [
      "[[4307  238]\n",
      " [ 307 1558]]\n",
      "              precision    recall  f1-score   support\n",
      "\n",
      "           0       0.93      0.95      0.94      4545\n",
      "           1       0.87      0.84      0.85      1865\n",
      "\n",
      "    accuracy                           0.91      6410\n",
      "   macro avg       0.90      0.89      0.90      6410\n",
      "weighted avg       0.91      0.91      0.91      6410\n",
      "\n"
     ]
    }
   ],
   "source": [
    "print(confusion_matrix(y_test, y_pred))\n",
    "print(classification_report(y_test, y_pred))"
   ]
  },
  {
   "cell_type": "code",
   "execution_count": 25,
   "id": "bda3dccb",
   "metadata": {
    "scrolled": true
   },
   "outputs": [
    {
     "name": "stdout",
     "output_type": "stream",
     "text": [
      "pca1 : 0.209\n",
      "pca2 : 0.049\n",
      "pca3 : 0.114\n",
      "pca4 : 0.061\n",
      "pca5 : 0.088\n",
      "pca6 : 0.069\n",
      "pca7 : 0.196\n",
      "pca8 : 0.050\n",
      "pca9 : 0.139\n",
      "pca10 : 0.024\n"
     ]
    },
    {
     "data": {
      "image/png": "[encoded data removed]",
      "text/plain": [
       "<Figure size 1000x600 with 1 Axes>"
      ]
     },
     "metadata": {},
     "output_type": "display_data"
    }
   ],
   "source": [
    "# feature importance 추출 \n",
    "importances = rand_clf.feature_importances_\n",
    "\n",
    "# feature별 importance 매핑\n",
    "for name, value in zip(X.columns, importances):\n",
    "    print('{0} : {1:.3f}'.format(name, value))\n",
    "\n",
    "# feature importance를 column 별로 시각화하기\n",
    "plt.figure(figsize=(10, 6))\n",
    "sns.barplot(x=importances, y=X.columns)\n",
    "plt.xlabel('Importance')\n",
    "plt.ylabel('Features')\n",
    "plt.title('Feature Importance')\n",
    "plt.show()\n"
   ]
  }
 ],
 "metadata": {
  "kernelspec": {
   "display_name": "univ_project",
   "language": "python",
   "name": "univ"
  },
  "language_info": {
   "codemirror_mode": {
    "name": "ipython",
    "version": 3
   },
   "file_extension": ".py",
   "mimetype": "text/x-python",
   "name": "python",
   "nbconvert_exporter": "python",
   "pygments_lexer": "ipython3",
   "version": "3.10.0"
  }
 },
 "nbformat": 4,
 "nbformat_minor": 5
}
