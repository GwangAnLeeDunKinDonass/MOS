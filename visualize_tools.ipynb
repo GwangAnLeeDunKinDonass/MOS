{
 "cells": [
  {
   "cell_type": "code",
   "execution_count": null,
   "id": "ed9d3523",
   "metadata": {},
   "outputs": [],
   "source": [
    "import matplotlib.pyplot as plt\n",
    "from mpl_toolkits.mplot3d import Axes3D\n",
    "import pandas as pd\n",
    "\n",
    "def twod_visualization(df):\n",
    "    fig = plt.figure(figsize = (8, 8))\n",
    "    ax = fig.add_subplot(1, 1, 1)\n",
    "    ax.set_xlabel('Principal Component 1', fontsize = 15)\n",
    "    ax.set_ylabel('Principal Component 2', fontsize = 15)\n",
    "    ax.set_title('2 component PCA', fontsize=20)\n",
    "    \n",
    "    data = df.iloc[:,-1]\n",
    "    targets = data.unique()\n",
    "    for target in targets:\n",
    "        indicesToKeep = (data == target)\n",
    "        ax.scatter(df.loc[indicesToKeep, 'pca1']\n",
    "                   , df.loc[indicesToKeep, 'pca2']\n",
    "                   , s = 50)\n",
    "    ax.legend(targets)\n",
    "    ax.grid()\n",
    "    \n",
    "def threed_visualization(df):\n",
    "    fig = plt.figure(figsize = (8, 8))\n",
    "    ax = fig.add_subplot(111, projection='3d')\n",
    "    ax.set_xlabel('Principal Component 1', fontsize = 15)\n",
    "    ax.set_ylabel('Principal Component 2', fontsize = 15)\n",
    "    ax.set_zlabel('Principal Component 3', fontsize = 15)\n",
    "    ax.set_title('3 component PCA', fontsize=20)\n",
    "    \n",
    "    data = df.iloc[:,-1]\n",
    "    targets = data.unique()\n",
    "    for target in targets:\n",
    "        indicesToKeep = (data == target)\n",
    "        ax.scatter(df.loc[indicesToKeep, 'pca1']\n",
    "                   , df.loc[indicesToKeep, 'pca2']\n",
    "                   , pdf.loc[indicesToKeep, 'pca3']\n",
    "                   , s = 50)\n",
    "    ax.legend(targets)\n",
    "    ax.grid()"
   ]
  }
 ],
 "metadata": {
  "kernelspec": {
   "display_name": "univ_project",
   "language": "python",
   "name": "univ"
  },
  "language_info": {
   "codemirror_mode": {
    "name": "ipython",
    "version": 3
   },
   "file_extension": ".py",
   "mimetype": "text/x-python",
   "name": "python",
   "nbconvert_exporter": "python",
   "pygments_lexer": "ipython3",
   "version": "3.10.0"
  }
 },
 "nbformat": 4,
 "nbformat_minor": 5
}
